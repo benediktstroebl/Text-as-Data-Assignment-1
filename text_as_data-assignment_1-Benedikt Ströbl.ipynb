{
 "cells": [
  {
   "cell_type": "markdown",
   "metadata": {
    "id": "wRTLPc6uoY3U"
   },
   "source": [
    "# Introduction\n",
    "\n",
    "In this assignment, you are asked to produce analysis that follows a set of instructions. You can do this any way you like, as long as you show me your results and the code you used to get there. The easier this is for me to replicate, and the clearer the code is, the higher your mark will be. One option would be to make a copy of this file, add in code snippets, and submit the RMarkdown file along with the PDF of completed results. Another option would be to send me a link to an .ipynb notebook file on Github. \n"
   ]
  },
  {
   "cell_type": "markdown",
   "metadata": {
    "id": "wKr0mDnqot-u"
   },
   "source": [
    "### 1.   Install dependencies and load data from URL\n"
   ]
  },
  {
   "cell_type": "code",
   "execution_count": 1,
   "metadata": {
    "colab": {
     "base_uri": "https://localhost:8080/"
    },
    "executionInfo": {
     "elapsed": 7570,
     "status": "ok",
     "timestamp": 1665762410814,
     "user": {
      "displayName": "Benedikt Ströbl",
      "userId": "05270344086363296234"
     },
     "user_tz": -120
    },
    "id": "KH_SsOXwpy1g",
    "outputId": "95f98199-e81e-49c8-d712-e919f894c856"
   },
   "outputs": [
    {
     "name": "stdout",
     "output_type": "stream",
     "text": [
      "Requirement already satisfied: corpus_toolkit in c:\\users\\bened\\anaconda3\\lib\\site-packages (0.32)\n"
     ]
    }
   ],
   "source": [
    "# Install dependencies\n",
    "!pip install corpus_toolkit"
   ]
  },
  {
   "cell_type": "code",
   "execution_count": 1,
   "metadata": {
    "colab": {
     "base_uri": "https://localhost:8080/"
    },
    "executionInfo": {
     "elapsed": 16173,
     "status": "ok",
     "timestamp": 1665762426984,
     "user": {
      "displayName": "Benedikt Ströbl",
      "userId": "05270344086363296234"
     },
     "user_tz": -120
    },
    "id": "N9ifBjCMq4v7",
    "outputId": "03471165-138e-4c0a-c766-5e6678cfc44b"
   },
   "outputs": [
    {
     "name": "stdout",
     "output_type": "stream",
     "text": [
      "It appears that you do not have spacy installed on your computer. Without installing Spacy, the tag(), and tag_corpus() functions won't work properly.\n",
      "It appears that you haven't downloaded the default language model for Spacy 'en_core_web_sm'. If you intend to tag/parse your corpus, please make sure you have a model downloaded. If you wish to use a model other than the default one, then load it before proceeding: 'nlp = spacy.load('model_name')'\n"
     ]
    },
    {
     "name": "stderr",
     "output_type": "stream",
     "text": [
      "[nltk_data] Downloading package stopwords to\n",
      "[nltk_data]     C:\\Users\\Bened\\AppData\\Roaming\\nltk_data...\n",
      "[nltk_data]   Package stopwords is already up-to-date!\n",
      "[nltk_data] Downloading package punkt to\n",
      "[nltk_data]     C:\\Users\\Bened\\AppData\\Roaming\\nltk_data...\n",
      "[nltk_data]   Package punkt is already up-to-date!\n",
      "[nltk_data] Downloading package wordnet to\n",
      "[nltk_data]     C:\\Users\\Bened\\AppData\\Roaming\\nltk_data...\n",
      "[nltk_data]   Package wordnet is already up-to-date!\n",
      "[nltk_data] Downloading package omw-1.4 to\n",
      "[nltk_data]     C:\\Users\\Bened\\AppData\\Roaming\\nltk_data...\n",
      "[nltk_data]   Package omw-1.4 is already up-to-date!\n"
     ]
    }
   ],
   "source": [
    "# Import dependencies\n",
    "import requests\n",
    "import pandas as pd\n",
    "from bs4 import BeautifulSoup\n",
    "from random import randint\n",
    "import re\n",
    "from corpus_toolkit import corpus_tools as ct\n",
    "import plotly.express as px\n",
    "import numpy as np\n",
    "from sklearn.feature_extraction.text import CountVectorizer\n",
    "import nltk\n",
    "from nltk import word_tokenize          \n",
    "from nltk.stem import WordNetLemmatizer \n",
    "from nltk.corpus import stopwords\n",
    "nltk.download('stopwords')\n",
    "nltk.download('punkt')\n",
    "nltk.download('wordnet')\n",
    "nltk.download('omw-1.4')\n",
    "stopwords = stopwords.words('english')"
   ]
  },
  {
   "cell_type": "code",
   "execution_count": 2,
   "metadata": {
    "id": "voEILAAtoqdB"
   },
   "outputs": [],
   "source": [
    "# get text file from URL\n",
    "response = requests.get(\"https://www.gutenberg.org/cache/epub/1934/pg1934.txt\")\n",
    "text_raw = response.text"
   ]
  },
  {
   "cell_type": "code",
   "execution_count": 3,
   "metadata": {
    "colab": {
     "base_uri": "https://localhost:8080/",
     "height": 206
    },
    "executionInfo": {
     "elapsed": 7,
     "status": "ok",
     "timestamp": 1665762430857,
     "user": {
      "displayName": "Benedikt Ströbl",
      "userId": "05270344086363296234"
     },
     "user_tz": -120
    },
    "id": "KG4XnATBsJwN",
    "outputId": "b028c5e8-7331-48f6-d5f1-e58cce4eedb6"
   },
   "outputs": [
    {
     "data": {
      "text/html": [
       "<div>\n",
       "<style scoped>\n",
       "    .dataframe tbody tr th:only-of-type {\n",
       "        vertical-align: middle;\n",
       "    }\n",
       "\n",
       "    .dataframe tbody tr th {\n",
       "        vertical-align: top;\n",
       "    }\n",
       "\n",
       "    .dataframe thead th {\n",
       "        text-align: right;\n",
       "    }\n",
       "</style>\n",
       "<table border=\"1\" class=\"dataframe\">\n",
       "  <thead>\n",
       "    <tr style=\"text-align: right;\">\n",
       "      <th></th>\n",
       "      <th>text</th>\n",
       "    </tr>\n",
       "  </thead>\n",
       "  <tbody>\n",
       "    <tr>\n",
       "      <th>0</th>\n",
       "      <td>﻿The Project Gutenberg eBook of Songs of Innoc...</td>\n",
       "    </tr>\n",
       "    <tr>\n",
       "      <th>1</th>\n",
       "      <td></td>\n",
       "    </tr>\n",
       "    <tr>\n",
       "      <th>2</th>\n",
       "      <td>This eBook is for the use of anyone anywhere i...</td>\n",
       "    </tr>\n",
       "    <tr>\n",
       "      <th>3</th>\n",
       "      <td>most other parts of the world at no cost and w...</td>\n",
       "    </tr>\n",
       "    <tr>\n",
       "      <th>4</th>\n",
       "      <td>whatsoever. You may copy it, give it away or r...</td>\n",
       "    </tr>\n",
       "  </tbody>\n",
       "</table>\n",
       "</div>"
      ],
      "text/plain": [
       "                                                text\n",
       "0  ﻿The Project Gutenberg eBook of Songs of Innoc...\n",
       "1                                                   \n",
       "2  This eBook is for the use of anyone anywhere i...\n",
       "3  most other parts of the world at no cost and w...\n",
       "4  whatsoever. You may copy it, give it away or r..."
      ]
     },
     "execution_count": 3,
     "metadata": {},
     "output_type": "execute_result"
    }
   ],
   "source": [
    "# Split full text into the individual lines and store result in pandas df\n",
    "content = text_raw.splitlines()\n",
    "df = pd.DataFrame(content, columns=[\"text\"])\n",
    "# We see that the empty lines are retained and included as empty rows in the dataframe\n",
    "df.head()"
   ]
  },
  {
   "cell_type": "code",
   "execution_count": 4,
   "metadata": {
    "id": "JwSb3ufSuHdN"
   },
   "outputs": [],
   "source": [
    "# Extract content of full document corpus and drop Gutenberg project headers and footers\n",
    "start_index = content.index(\"CONTENTS\")\n",
    "end_index = content.index(\"*** END OF THE PROJECT GUTENBERG EBOOK SONGS OF INNOCENCE AND OF EXPERIENCE ***\")\n",
    "content = content[start_index:end_index]"
   ]
  },
  {
   "cell_type": "code",
   "execution_count": 5,
   "metadata": {
    "colab": {
     "base_uri": "https://localhost:8080/"
    },
    "executionInfo": {
     "elapsed": 5,
     "status": "ok",
     "timestamp": 1665762433708,
     "user": {
      "displayName": "Benedikt Ströbl",
      "userId": "05270344086363296234"
     },
     "user_tz": -120
    },
    "id": "kXLOd-1DJzBy",
    "outputId": "6d1580a1-f36c-4221-c755-cf8d74470e4d"
   },
   "outputs": [
    {
     "name": "stdout",
     "output_type": "stream",
     "text": [
      "Head: ['The Shepherd', 'The Echoing Green', 'The Lamb', 'The Little Black Boy', 'The Blossom', 'The Chimney-Sweeper', 'The Little Boy Lost', 'The Little Boy Found', 'Laughing Song', 'A Cradle Song', 'The Divine Image', 'Holy Thursday', 'Night', 'Spring', 'Nurse’s Song', 'Infant Joy', 'A Dream', 'On Another’s Sorrow', '', '             SONGS OF EXPERIENCE', '', 'Introduction', 'Earth’s Answer', 'The Clod and the Pebble', 'Holy Thursday', 'The Little Girl Lost', 'The Little Girl Found', 'The Chimney-Sweeper', 'Nurse’s Song', 'The Sick Rose', 'The Fly', 'The Angel', 'The Tiger', 'My Pretty Rose-Tree', 'Ah, Sunflower', 'The Lily', 'The Garden of Love', 'The Little Vagabond', 'London', 'The Human Abstract', 'Infant Sorrow', 'A Poison Tree', 'A Little Boy Lost', 'A Little Girl Lost', 'A Divine Image', 'A Cradle Song', 'To Tirzah', 'The Schoolboy', 'The Voice of the Ancient Bard', '', '', '', '', 'SONGS OF INNOCENCE', '', '', '', '', 'INTRODUCTION', '', '', 'Piping down the valleys wild,', '    Piping songs of pleasant glee,', 'On a cloud I saw a child,', '    And he laughing said to me:', '', '‘Pipe a song about a Lamb!’', '    So I piped with merry cheer.', '‘Piper, pipe that song again.’', '    So I piped: he wept to hear.', '', '‘Drop thy pipe, thy happy pipe;', '    Sing thy songs of happy cheer!’', 'So I sung the same again,', '    While he wept with joy to hear.', '', '‘Piper, sit thee down and write', '    In a book, that all may read.’', 'So he vanished from my sight;', '    And I plucked a hollow reed,', '', 'And I made a rural pen,', '    And I stained the water clear,', 'And I wrote my happy songs', '    Every child may joy to hear.', '', '', '', '', 'THE SHEPHERD', '', '', 'How sweet is the shepherd’s sweet lot!', 'From the morn to the evening he strays;', 'He shall follow his sheep all the day,', 'And his tongue shall be fillèd with praise.', '', 'For he hears the lambs’ innocent call,', 'And he hears the ewes’ tender reply;', 'He is watchful while they are in peace,', 'For they know when their shepherd is nigh.', '', '', '', '', 'THE ECHOING GREEN', '', '', 'The sun does arise,', 'And make happy the skies;', 'The merry bells ring', 'To welcome the Spring;', 'The skylark and thrush,', 'The birds of the bush,', 'Sing louder around', 'To the bells’ cheerful sound;', 'While our sports shall be seen', 'On the echoing green.', '', 'Old John, with white hair,', 'Does laugh away care,', 'Sitting under the oak,', 'Among the old folk.', 'They laugh at our play,', 'And soon they all say,', '‘Such, such were the joys', 'When we all—girls and boys—', 'In our youth-time were seen', 'On the echoing green.’', '', 'Till the little ones, weary,', 'No more can be merry:', 'The sun does descend,', 'And our sports have an end.', 'Round the laps of their mothers', 'Many sisters and brothers,', 'Like birds in their nest,', 'Are ready for rest,', 'And sport no more seen', 'On the darkening green.', '', '', '', '', 'THE LAMB', '', '', 'Little lamb, who made thee?', 'Does thou know who made thee,', 'Gave thee life, and bid thee feed', 'By the stream and o’er the mead;', 'Gave thee clothing of delight,', 'Softest clothing, woolly, bright;', 'Gave thee such a tender voice,', 'Making all the vales rejoice?', '    Little lamb, who made thee?', '    Does thou know who made thee?', '', 'Little lamb, I’ll tell thee;', 'Little lamb, I’ll tell thee:', 'He is callèd by thy name,', 'For He calls Himself a Lamb.', 'He is meek, and He is mild,', 'He became a little child.', 'I a child, and thou a lamb,', 'We are callèd by His name.', '    Little lamb, God bless thee!', '    Little lamb, God bless thee!', '', '', '', '', '', 'THE LITTLE BLACK BOY', '', '', 'My mother bore me in the southern wild,', '    And I am black, but O my soul is white!', 'White as an angel is the English child,', '    But I am black, as if bereaved of light.', '', 'My mother taught me underneath a tree,', '    And, sitting down before the heat of day,', 'She took me on her lap and kissèd me,', '    And, pointing to the East, began to say:', '', '‘Look on the rising sun: there God does live,', '    And gives His light, and gives His heat away,', 'And flowers and trees and beasts and men receive', '    Comfort in morning, joy in the noonday.', '', '‘And we are put on earth a little space,', '    That we may learn to bear the beams of love;', 'And these black bodies and this sunburnt face', '    Are but a cloud, and like a shady grove.', '', '‘For, when our souls have learned the heat to bear,', '    The cloud will vanish, we shall hear His voice,', 'Saying, “Come out from the grove, my love and care,', '    And round my golden tent like lambs rejoice.”’', '', 'Thus did my mother say, and kissed me,', '    And thus I say to little English boy.', 'When I from black, and he from white cloud free,', '    And round the tent of God like lambs we joy,', '', 'I’ll shade him from the heat till he can bear', '    To lean in joy upon our Father’s knee;', 'And then I’ll stand and stroke his silver hair,', '    And be like him, and he will then love me.', '', '', '', '', 'THE BLOSSOM', '', '', 'Merry, merry sparrow!', 'Under leaves so green', '    A happy blossom', 'Sees you, swift as arrow,', 'Seek your cradle narrow,', '    Near my bosom.', '', 'Pretty, pretty robin!', 'Under leaves so green', '    A happy blossom', 'Hears you sobbing, sobbing,', 'Pretty, pretty robin,', '    Near my bosom.', '', '', '', '', 'THE CHIMNEY-SWEEPER', '', '', 'When my mother died I was very young,', 'And my father sold me while yet my tongue', 'Could scarcely cry ‘Weep! weep! weep! weep!’', 'So your chimneys I sweep, and in soot I sleep.', '', 'There’s little Tom Dacre, who cried when his head,', 'That curled like a lamb’s back, was shaved; so I said,', '‘Hush, Tom! never mind it, for, when your head’s bare,', 'You know that the soot cannot spoil your white hair.’', '', 'And so he was quiet, and that very night,', 'As Tom was a-sleeping, he had such a sight!—', 'That thousands of sweepers, Dick, Joe, Ned, and Jack,', 'Were all of them locked up in coffins of black.', '', 'And by came an angel, who had a bright key,', 'And he opened the coffins, and set them all free;', 'Then down a green plain, leaping, laughing, they run', 'And wash in a river, and shine in the sun.', '', 'Then naked and white, all their bags left behind,', 'They rise upon clouds, and sport in the wind:', 'And the angel told Tom, if he’d be a good boy,', 'He’d have God for his father, and never want joy.', '', 'And so Tom awoke, and we rose in the dark,', 'And got with our bags and our brushes to work.', 'Though the morning was cold, Tom was happy and warm:', 'So, if all do their duty, they need not fear harm.', '', '', '', '', 'THE LITTLE BOY LOST', '', '', '‘Father, father, where are you going?', '    O do not walk so fast!', 'Speak, father, speak to your little boy,', '    Or else I shall be lost.’', '', 'The night was dark, no father was there,', '    The child was wet with dew;', 'The mire was deep, and the child did weep,', '    And away the vapour flew.', '', '', '', '', 'THE LITTLE BOY FOUND', '', '', 'The little boy lost in the lonely fen,', '    Led by the wandering light,', 'Began to cry, but God, ever nigh,', '    Appeared like his father, in white.', '', 'He kissed the child, and by the hand led,', '    And to his mother brought,', 'Who in sorrow pale, through the lonely dale,', '    Her little boy weeping sought.', '', '', '', '', 'LAUGHING SONG', '', '', 'When the green woods laugh with the voice of joy,', 'And the dimpling stream runs laughing by;', 'When the air does laugh with our merry wit,', 'And the green hill laughs with the noise of it;', '', 'When the meadows laugh with lively green,', 'And the grasshopper laughs in the merry scene;', 'When Mary and Susan and Emily', 'With their sweet round mouths sing ‘Ha ha he!’', '', 'When the painted birds laugh in the shade,', 'Where our table with cherries and nuts is spread:', 'Come live, and be merry, and join with me,', 'To sing the sweet chorus of ‘Ha ha he!’', '', '', '', '', 'A CRADLE SONG', '', '', 'Sweet dreams, form a shade', 'O’er my lovely infant’s head!', 'Sweet dreams of pleasant streams', 'By happy, silent, moony beams!', '', 'Sweet Sleep, with soft down', 'Weave thy brows an infant crown!', 'Sweet Sleep, angel mild,', 'Hover o’er my happy child!', '', 'Sweet smiles, in the night', 'Hover over my delight!', 'Sweet smiles, mother’s smiles,', 'All the livelong night beguiles.', '', 'Sweet moans, dovelike sighs,', 'Chase not slumber from thy eyes!', 'Sweet moans, sweeter smiles,', 'All the dovelike moans beguiles.', '', 'Sleep, sleep, happy child!', 'All creation slept and smiled.', 'Sleep, sleep, happy sleep,', 'While o’er thee thy mother weep.', '', 'Sweet babe, in thy face', 'Holy image I can trace;', 'Sweet babe, once like thee', 'Thy Maker lay, and wept for me:', '', 'Wept for me, for thee, for all,', 'When He was an infant small.', 'Thou His image ever see,', 'Heavenly face that smiles on thee!', '', 'Smiles on thee, on me, on all,', 'Who became an infant small;', 'Infant smiles are His own smiles;', 'Heaven and earth to peace beguiles.', '', '', '', '', 'THE DIVINE IMAGE', '', '', 'To Mercy, Pity, Peace, and Love,', '    All pray in their distress,', 'And to these virtues of delight', '    Return their thankfulness.', '', 'For Mercy, Pity, Peace, and Love,', '    Is God our Father dear;', 'And Mercy, Pity, Peace, and Love,', '    Is man, His child and care.', '', 'For Mercy has a human heart;', '    Pity, a human face;', 'And Love, the human form divine:', '    And Peace the human dress.', '', 'Then every man, of every clime,', '    That prays in his distress,', 'Prays to the human form divine:', '    Love, Mercy, Pity, Peace.', '', 'And all must love the human form,', '    In heathen, Turk, or Jew.', 'Where Mercy, Love, and Pity dwell,', '    There God is dwelling too.', '', '', '', '', 'HOLY THURSDAY', '', '', '’Twas on a holy Thursday, their innocent faces clean,', 'The children walking two and two, in red, and blue, and green:', 'Grey-headed beadles walked before, with wands as white as snow,', 'Till into the high dome of Paul’s they like Thames waters flow.', '', 'O what a multitude they seemed, these flowers of London town!', 'Seated in companies they sit, with radiance all their own.', 'The hum of multitudes was there, but multitudes of lambs,', 'Thousands of little boys and girls raising their innocent hands.', '', 'Now like a mighty wind they raise to heaven the voice of song,', 'Or like harmonious thunderings the seats of heaven among:', 'Beneath them sit the aged men, wise guardians of the poor.', 'Then cherish pity, lest you drive an angel from your door.', '', '', '', '', 'NIGHT', '', '', 'The sun descending in the West,', 'The evening star does shine;', 'The birds are silent in their nest,', 'And I must seek for mine.', 'The moon, like a flower', 'In heaven’s high bower,', 'With silent delight,', 'Sits and smiles on the night.', '', 'Farewell, green fields and happy groves,', 'Where flocks have took delight,', 'Where lambs have nibbled, silent moves', 'The feet of angels bright;', 'Unseen, they pour blessing,', 'And joy without ceasing,', 'On each bud and blossom,', 'And each sleeping bosom.', '', 'They look in every thoughtless nest', 'Where birds are covered warm;', 'They visit caves of every beast,', 'To keep them all from harm:', 'If they see any weeping', 'That should have been sleeping,', 'They pour sleep on their head,', 'And sit down by their bed.', '', 'When wolves and tigers howl for prey,', 'They pitying stand and weep;', 'Seeking to drive their thirst away,', 'And keep them from the sheep.', 'But, if they rush dreadful,', 'The angels, most heedful,', 'Receive each mild spirit,', 'New worlds to inherit.', '', 'And there the lion’s ruddy eyes', 'Shall flow with tears of gold:', 'And pitying the tender cries,', 'And walking round the fold:', 'Saying: ‘Wrath by His meekness,', 'And, by His health, sickness,', 'Is driven away', 'From our immortal day.', '', '‘And now beside thee, bleating lamb,', 'I can lie down and sleep,', 'Or think on Him who bore thy name,', 'Graze after thee, and weep.', 'For, washed in life’s river,', 'My bright mane for ever', 'Shall shine like the gold,', 'As I guard o’er the fold.', '', '', '', '', 'SPRING', '', '', '      Sound the flute!', '      Now it’s mute!', '      Birds delight,', '      Day and night,', '      Nightingale,', '      In the dale,', '      Lark in sky,—', '      Merrily,', 'Merrily, merrily to welcome in the year.', '', '      Little boy,', '      Full of joy;', '      Little girl,', '      Sweet and small;', '      Cock does crow,', '      So do you;', '      Merry voice,', '      Infant noise;', 'Merrily, merrily to welcome in the year.', '', '      Little lamb,', '      Here I am;', '      Come and lick', '      My white neck;', '      Let me pull', '      Your soft wool;', '      Let me kiss', '      Your soft face;', 'Merrily, merrily we welcome in the year.', '', '', '', '', 'NURSE’S SONG', '', '', 'When voices of children are heard on the green,', '    And laughing is heard on the hill,', 'My heart is at rest within my breast,', '    And everything else is still.', '', '‘Then come home, my children, the sun is gone down,', '    And the dews of night arise;', 'Come, come, leave off play, and let us away,', '    Till the morning appears in the skies.’', '', '‘No, no, let us play, for it is yet day,', '    And we cannot go to sleep;', 'Besides, in the sky the little birds fly,', '    And the hills are all covered with sheep.’', '', '‘Well, well, go and play till the light fades away,', '    And then go home to bed.’', 'The little ones leaped, and shouted, and laughed,', '    And all the hills echoèd.', '', '', '', '', 'INFANT JOY', '', '', '‘I have no name;', 'I am but two days old.’', 'What shall I call thee?', '‘I happy am,', 'Joy is my name.’', 'Sweet joy befall thee!', '', 'Pretty joy!', 'Sweet joy, but two days old.', 'Sweet joy I call thee:', 'Thou dost smile,', 'I sing the while;', 'Sweet joy befall thee!', '', '', '', '', 'A DREAM', '', '', 'Once a dream did weave a shade', 'O’er my angel-guarded bed,', 'That an emmet lost its way', 'Where on grass methought I lay.', '', 'Troubled, wildered, and forlorn,', 'Dark, benighted, travel-worn,', 'Over many a tangled spray,', 'All heart-broke, I heard her say:', '', '‘O my children! do they cry,', 'Do they hear their father sigh?', 'Now they look abroad to see,', 'Now return and weep for me.’', '', 'Pitying, I dropped a tear:', 'But I saw a glow-worm near,', 'Who replied, ‘What wailing wight', 'Calls the watchman of the night?’', '', '‘I am set to light the ground,', 'While the beetle goes his round:', 'Follow now the beetle’s hum;', 'Little wanderer, hie thee home!’', '', '', '', '', 'ON ANOTHER’S SORROW', '', '', 'Can I see another’s woe,', 'And not be in sorrow too?', 'Can I see another’s grief,', 'And not seek for kind relief?', '', 'Can I see a falling tear,', 'And not feel my sorrow’s share?', 'Can a father see his child', 'Weep, nor be with sorrow filled?', '', 'Can a mother sit and hear', 'An infant groan, an infant fear?', 'No, no! never can it be!', 'Never, never can it be!', '', 'And can He who smiles on all', 'Hear the wren with sorrows small,', 'Hear the small bird’s grief and care,', 'Hear the woes that infants bear—', '', 'And not sit beside the nest,', 'Pouring pity in their breast,', 'And not sit the cradle near,', 'Weeping tear on infant’s tear?', '', 'And not sit both night and day,', 'Wiping all our tears away?', 'O no! never can it be!', 'Never, never can it be!', '', 'He doth give His joy to all:', 'He becomes an infant small,', 'He becomes a man of woe,', 'He doth feel the sorrow too.', '', 'Think not thou canst sigh a sigh,', 'And thy Maker is not by:', 'Think not thou canst weep a tear,', 'And thy Maker is not near.', '', 'O He gives to us His joy,', 'That our grief He may destroy:', 'Till our grief is fled and gone', 'He doth sit by us and moan.', '', '', '', '', 'SONGS OF EXPERIENCE', '', '', '', '', 'INTRODUCTION', '', '', '    Hear the voice of the Bard,', 'Who present, past, and future, sees;', '    Whose ears have heard', '    The Holy Word', 'That walked among the ancient trees;', '', '    Calling the lapséd soul,', 'And weeping in the evening dew;', '    That might control', '    The starry pole,', 'And fallen, fallen light renew!', '', '    ‘O Earth, O Earth, return!', 'Arise from out the dewy grass!', '    Night is worn,', '    And the morn', 'Rises from the slumbrous mass.', '', '    ‘Turn away no more;', 'Why wilt thou turn away?', '    The starry floor,', '    The watery shore,', 'Is given thee till the break of day.’', '', '', '', '', 'EARTH’S ANSWER', '', '', '    Earth raised up her head', 'From the darkness dread and drear,', '        Her light fled,', '        Stony, dread,', 'And her locks covered with grey despair.', '', '    ‘Prisoned on watery shore,', 'Starry jealousy does keep my den', '        Cold and hoar;', '        Weeping o’er,', 'I hear the father of the ancient men.', '', '    ‘Selfish father of men!', 'Cruel, jealous, selfish fear!', '        Can delight,', '        Chained in night,', 'The virgins of youth and morning bear.', '', '    ‘Does spring hide its joy,', 'When buds and blossoms grow?', '        Does the sower', '        Sow by night,', 'Or the ploughman in darkness plough?', '', '    ‘Break this heavy chain,', 'That does freeze my bones around!', '        Selfish, vain,', '        Eternal bane,', 'That free love with bondage bound.’', '', '', '', '', 'THE CLOD AND THE PEBBLE', '', '', '‘Love seeketh not itself to please,', '    Nor for itself hath any care,', 'But for another gives its ease,', '    And builds a heaven in hell’s despair.’', '', 'So sung a little clod of clay,', '    Trodden with the cattle’s feet,', 'But a pebble of the brook', '    Warbled out these metres meet:', '', '‘Love seeketh only Self to please,', '    To bind another to its delight,', 'Joys in another’s loss of ease,', '    And builds a hell in heaven’s despite.’', '', '', '', '', 'HOLY THURSDAY', '', '', 'Is this a holy thing to see', '    In a rich and fruitful land,—', 'Babes reduced to misery,', '    Fed with cold and usurous hand?', '', 'Is that trembling cry a song?', '    Can it be a song of joy?', 'And so many children poor?', '    It is a land of poverty!', '', 'And their sun does never shine,', '    And their fields are bleak and bare,', 'And their ways are filled with thorns,', '    It is eternal winter there.', '', 'For where’er the sun does shine,', '    And where’er the rain does fall,', 'Babe can never hunger there,', '    Nor poverty the mind appal.', '', '', '', '', 'THE LITTLE GIRL LOST', '', '', 'In futurity', 'I prophesy', 'That the earth from sleep', '(Grave the sentence deep)', '', 'Shall arise, and seek', 'For her Maker meek;', 'And the desert wild', 'Become a garden mild.', '', 'In the southern clime,', 'Where the summer’s prime', 'Never fades away,', 'Lovely Lyca lay.', '', 'Seven summers old', 'Lovely Lyca told.', 'She had wandered long,', 'Hearing wild birds’ song.', '', '‘Sweet sleep, come to me,', 'Underneath this tree;', 'Do father, mother, weep?', 'Where can Lyca sleep?', '', '‘Lost in desert wild', 'Is your little child.', 'How can Lyca sleep', 'If her mother weep?', '', '‘If her heart does ache,', 'Then let Lyca wake;', 'If my mother sleep,', 'Lyca shall not weep.', '', '‘Frowning, frowning night,', 'O’er this desert bright', 'Let thy moon arise,', 'While I close my eyes.’', '', 'Sleeping Lyca lay,', 'While the beasts of prey,', 'Come from caverns deep,', 'Viewed the maid asleep.', '', 'The kingly lion stood,', 'And the virgin viewed:', 'Then he gambolled round', 'O’er the hallowed ground.', '', 'Leopards, tigers, play', 'Round her as she lay;', 'While the lion old', 'Bowed his mane of gold,', '', 'And her bosom lick,', 'And upon her neck,', 'From his eyes of flame,', 'Ruby tears there came;', '', 'While the lioness', 'Loosed her slender dress,', 'And naked they conveyed', 'To caves the sleeping maid.', '', '', '', '', 'THE LITTLE GIRL FOUND', '', '', 'All the night in woe', 'Lyca’s parents go', 'Over valleys deep,', 'While the deserts weep.', '', 'Tired and woe-begone,', 'Hoarse with making moan,', 'Arm in arm, seven days', 'They traced the desert ways.', '', 'Seven nights they sleep', 'Among shadows deep,', 'And dream they see their child', 'Starved in desert wild.', '', 'Pale through pathless ways', 'The fancied image strays,', 'Famished, weeping, weak,', 'With hollow piteous shriek.', '', 'Rising from unrest,', 'The trembling woman pressed', 'With feet of weary woe;', 'She could no further go.', '', 'In his arms he bore', 'Her, armed with sorrow sore;', 'Till before their way', 'A couching lion lay.', '', 'Turning back was vain:', 'Soon his heavy mane', 'Bore them to the ground,', 'Then he stalked around,', '', 'Smelling to his prey;', 'But their fears allay', 'When he licks their hands,', 'And silent by them stands.', '', 'They look upon his eyes,', 'Filled with deep surprise;', 'And wondering behold', 'A spirit armed in gold.', '', 'On his head a crown,', 'On his shoulders down', 'Flowed his golden hair.', 'Gone was all their care.', '', '‘Follow me,’ he said;', '‘Weep not for the maid;', 'In my palace deep,', 'Lyca lies asleep.’', '', 'Then they followèd', 'Where the vision led,', 'And saw their sleeping child', 'Among tigers wild.', '', 'To this day they dwell', 'In a lonely dell,', 'Nor fear the wolvish howl', 'Nor the lion’s growl.', '', '', '', '', 'THE CHIMNEY-SWEEPER', '', '', 'A little black thing among the snow,', '    Crying! ‘weep! weep!’ in notes of woe!', '‘Where are thy father and mother? Say!’—', '    ‘They are both gone up to the church to pray.', '', '‘Because I was happy upon the heath,', '    And smiled among the winter’s snow,', 'They clothed me in the clothes of death,', '    And taught me to sing the notes of woe.', '', '‘And because I am happy and dance and sing,', '    They think they have done me no injury,', 'And are gone to praise God and His priest and king,', '    Who made up a heaven of our misery.’', '', '', '', '', 'NURSE’S SONG', '', '', 'When the voices of children are heard on the green,', '    And whisperings are in the dale,', 'The days of my youth rise fresh in my mind,', '    My face turns green and pale.', '', 'Then come home, my children, the sun is gone down,', '    And the dews of night arise;', 'Your spring and your day are wasted in play,', '    And your winter and night in disguise.', '', '', '', '', 'THE SICK ROSE', '', '', 'O rose, thou art sick!', '    The invisible worm,', 'That flies in the night,', '    In the howling storm,', '', 'Has found out thy bed', '    Of crimson joy,', 'And his dark secret love', '    Does thy life destroy.', '', '', '', '', 'THE FLY', '', '', 'Little Fly,', '    Thy summer’s play', 'My thoughtless hand', '    Has brushed away.', '', 'Am not I', '    A fly like thee?', 'Or art not thou', '    A man like me?', '', 'For I dance,', '    And drink, and sing,', 'Till some blind hand', '    Shall brush my wing.', '', 'If thought is life', '    And strength and breath,', 'And the want', '    Of thought is death;', '', 'Then am I', '    A happy fly.', 'If I live,', '    Or if I die.', '', '', '', '', 'THE ANGEL', '', '', 'I dreamt a dream!  What can it mean?', 'And that I was a maiden Queen', 'Guarded by an Angel mild:', 'Witless woe was ne’er beguiled!', '', 'And I wept both night and day,', 'And he wiped my tears away;', 'And I wept both day and night,', 'And hid from him my heart’s delight.', '', 'So he took his wings, and fled;', 'Then the morn blushed rosy red.', 'I dried my tears, and armed my fears', 'With ten thousand shields and spears.', '', 'Soon my Angel came again;', 'I was armed, he came in vain;', 'For the time of youth was fled,', 'And grey hairs were on my head.', '', '', '', '', 'THE TIGER', '', '', 'Tiger, tiger, burning bright', 'In the forests of the night,', 'What immortal hand or eye', 'Could frame thy fearful symmetry?', '', 'In what distant deeps or skies', 'Burnt the fire of thine eyes?', 'On what wings dare he aspire?', 'What the hand dare seize the fire?', '', 'And what shoulder and what art', 'Could twist the sinews of thy heart?', 'And, when thy heart began to beat,', 'What dread hand and what dread feet?', '', 'What the hammer? what the chain?', 'In what furnace was thy brain?', 'What the anvil? what dread grasp', 'Dare its deadly terrors clasp?', '', 'When the stars threw down their spears,', 'And watered heaven with their tears,', 'Did He smile His work to see?', 'Did He who made the lamb make thee?', '', 'Tiger, tiger, burning bright', 'In the forests of the night,', 'What immortal hand or eye', 'Dare frame thy fearful symmetry?', '', '', '', '', 'MY PRETTY ROSE TREE', '', '', 'A flower was offered to me,', '    Such a flower as May never bore;', 'But I said, ‘I’ve a pretty rose tree,’', '    And I passed the sweet flower o’er.', '', 'Then I went to my pretty rose tree,', '    To tend her by day and by night;', 'But my rose turned away with jealousy,', '    And her thorns were my only delight.', '', '', '', '', 'AH, SUNFLOWER', '', '', 'Ah, sunflower, weary of time,', '    Who countest the steps of the sun;', 'Seeking after that sweet golden clime', '    Where the traveller’s journey is done;', '', 'Where the Youth pined away with desire,', '    And the pale virgin shrouded in snow,', 'Arise from their graves, and aspire', '    Where my Sunflower wishes to go!', '', '', '', '', 'THE LILY', '', '', 'The modest Rose puts forth a thorn,', 'The humble sheep a threat’ning horn:', 'While the Lily white shall in love delight,', 'Nor a thorn nor a threat stain her beauty bright.', '', '', '', '', 'THE GARDEN OF LOVE', '', '', 'I went to the Garden of Love,', '    And saw what I never had seen;', 'A Chapel was built in the midst,', '    Where I used to play on the green.', '', 'And the gates of this Chapel were shut,', '    And ‘Thou shalt not’ writ over the door;', 'So I turned to the Garden of Love', '    That so many sweet flowers bore.', '', 'And I saw it was filled with graves,', '    And tombstones where flowers should be;', 'And priests in black gowns were walking their rounds,', '    And binding with briars my joys and desires.', '', '', '', '', 'THE LITTLE VAGABOND', '', '', 'Dear mother, dear mother, the Church is cold;', 'But the Alehouse is healthy, and pleasant, and warm.', 'Besides, I can tell where I am used well;', 'Such usage in heaven will never do well.', '', 'But, if at the Church they would give us some ale,', 'And a pleasant fire our souls to regale,', 'We’d sing and we’d pray all the livelong day,', 'Nor ever once wish from the Church to stray.', '', 'Then the Parson might preach, and drink, and sing,', 'And we’d be as happy as birds in the spring;', 'And modest Dame Lurch, who is always at church,', 'Would not have bandy children, nor fasting, nor birch.', '', 'And God, like a father, rejoicing to see', 'His children as pleasant and happy as He,', 'Would have no more quarrel with the Devil or the barrel,', 'But kiss him, and give him both drink and apparel.', '', '', '', '', 'LONDON', '', '', 'I wander through each chartered street,', '    Near where the chartered Thames does flow,', 'A mark in every face I meet,', '    Marks of weakness, marks of woe.', '', 'In every cry of every man,', '    In every infant’s cry of fear,', 'In every voice, in every ban,', '    The mind-forged manacles I hear:', '', 'How the chimney-sweeper’s cry', '    Every blackening church appals,', 'And the hapless soldier’s sigh', '    Runs in blood down palace-walls.', '', 'But most, through midnight streets I hear', '    How the youthful harlot’s curse', 'Blasts the new-born infant’s tear,', '    And blights with plagues the marriage hearse.', '', '', '', '', 'THE HUMAN ABSTRACT', '', '', 'Pity would be no more', 'If we did not make somebody poor,', 'And Mercy no more could be', 'If all were as happy as we.', '', 'And mutual fear brings Peace,', 'Till the selfish loves increase;', 'Then Cruelty knits a snare,', 'And spreads his baits with care.', '', 'He sits down with holy fears,', 'And waters the ground with tears;', 'Then Humility takes its root', 'Underneath his foot.', '', 'Soon spreads the dismal shade', 'Of Mystery over his head,', 'And the caterpillar and fly', 'Feed on the Mystery.', '', 'And it bears the fruit of Deceit,', 'Ruddy and sweet to eat,', 'And the raven his nest has made', 'In its thickest shade.', '', 'The gods of the earth and sea', 'Sought through nature to find this tree,', 'But their search was all in vain:', 'There grows one in the human Brain.', '', '', '', '', 'INFANT SORROW', '', '', 'My mother groaned, my father wept:', 'Into the dangerous world I leapt,', 'Helpless, naked, piping loud,', 'Like a fiend hid in a cloud.', '', 'Struggling in my father’s hands,', 'Striving against my swaddling bands,', 'Bound and weary, I thought best', 'To sulk upon my mother’s breast.', '', '', '', '', 'A POISON TREE', '', '', 'I was angry with my friend:', 'I told my wrath, my wrath did end.', 'I was angry with my foe:', 'I told it not, my wrath did grow.', '', 'And I watered it in fears', 'Night and morning with my tears,', 'And I sunnèd it with smiles', 'And with soft deceitful wiles.', '', 'And it grew both day and night,', 'Till it bore an apple bright,', 'And my foe beheld it shine,', 'And he knew that it was mine,—', '', 'And into my garden stole', 'When the night had veiled the pole;', 'In the morning, glad, I see', 'My foe outstretched beneath the tree.', '', '', '', '', 'A LITTLE BOY LOST', '', '', '‘Nought loves another as itself,', '    Nor venerates another so,', 'Nor is it possible to thought', '    A greater than itself to know.', '', '‘And, father, how can I love you', '    Or any of my brothers more?', 'I love you like the little bird', '    That picks up crumbs around the door.’', '', 'The Priest sat by and heard the child;', '    In trembling zeal he seized his hair,', 'He led him by his little coat,', '    And all admired his priestly care.', '', 'And standing on the altar high,', '    ‘Lo, what a fiend is here!’ said he:', '‘One who sets reason up for judge', '    Of our most holy mystery.’', '', 'The weeping child could not be heard,', '    The weeping parents wept in vain:', 'They stripped him to his little shirt,', '    And bound him in an iron chain,', '', 'And burned him in a holy place', '    Where many had been burned before;', 'The weeping parents wept in vain.', '    Are such things done on Albion’s shore?', '', '', '', '', 'A LITTLE GIRL LOST', '', '', 'Children of the future age,', 'Reading this indignant page,', 'Know that in a former time', 'Love, sweet love, was thought a crime.', '', 'In the age of gold,', 'Free from winter’s cold,', 'Youth and maiden bright,', 'To the holy light,', 'Naked in the sunny beams delight.', '', 'Once a youthful pair,', 'Filled with softest care,', 'Met in garden bright', 'Where the holy light', 'Had just removed the curtains of the night.', '', 'There, in rising day,', 'On the grass they play;', 'Parents were afar,', 'Strangers came not near,', 'And the maiden soon forgot her fear.', '', 'Tired with kisses sweet,', 'They agree to meet', 'When the silent sleep', 'Waves o’er heaven’s deep,', 'And the weary tired wanderers weep.', '', 'To her father white', 'Came the maiden bright;', 'But his loving look,', 'Like the holy book,', 'All her tender limbs with terror shook.', '', 'Ona, pale and weak,', 'To thy father speak!', 'O the trembling fear!', 'O the dismal care', 'That shakes the blossoms of my hoary hair!’', '', '', '', '', 'A DIVINE IMAGE', '', '', 'Cruelty has a human heart,', '    And Jealousy a human face;', 'Terror the human form divine,', '    And Secrecy the human dress.', '', 'The human dress is forgèd iron,', '    The human form a fiery forge,', 'The human face a furnace sealed,', '    The human heart its hungry gorge.', '', '', '', '', 'A CRADLE SONG', '', '', 'Sleep, sleep, beauty bright,', 'Dreaming in the joys of night;', 'Sleep, sleep; in thy sleep', 'Little sorrows sit and weep.', '', 'Sweet babe, in thy face', 'Soft desires I can trace,', 'Secret joys and secret smiles,', 'Little pretty infant wiles.', '', 'As thy softest limbs I feel,', 'Smiles as of the morning steal', 'O’er thy cheek, and o’er thy breast', 'Where thy little heart doth rest.', '', 'O the cunning wiles that creep', 'In thy little heart asleep!', 'When thy little heart doth wake,', 'Then the dreadful light shall break.', '', '', '', '', 'TO TIRZAH', '', '', 'Whate’er is born of mortal birth', 'Must be consumèd with the earth,', 'To rise from generation free:', 'Then what have I to do with thee?', '', 'The sexes sprung from shame and pride,', 'Blowed in the morn, in evening died;', 'But mercy changed death into sleep;', 'The sexes rose to work and weep.', '', 'Thou, mother of my mortal part,', 'With cruelty didst mould my heart,', 'And with false self-deceiving tears', 'Didst blind my nostrils, eyes, and ears,', '', 'Didst close my tongue in senseless clay,', 'And me to mortal life betray.', 'The death of Jesus set me free:', 'Then what have I to do with thee?', '', '', '', '', 'THE SCHOOLBOY', '', '', 'I love to rise in a summer morn,', '    When the birds sing on every tree;', 'The distant huntsman winds his horn,', '    And the skylark sings with me:', '    O what sweet company!', '', 'But to go to school in a summer morn,—', '    O it drives all joy away!', 'Under a cruel eye outworn,', '    The little ones spend the day', '    In sighing and dismay.', '', 'Ah then at times I drooping sit,', '    And spend many an anxious hour;', 'Nor in my book can I take delight,', '    Nor sit in learning’s bower,', '    Worn through with the dreary shower.', '', 'How can the bird that is born for joy', '    Sit in a cage and sing?', 'How can a child, when fears annoy,', '    But droop his tender wing,', '    And forget his youthful spring!', '', 'O father and mother if buds are nipped,', '    And blossoms blown away;', 'And if the tender plants are stripped', '    Of their joy in the springing day,', '    By sorrow and care’s dismay,—', '', 'How shall the summer arise in joy,', '    Or the summer fruits appear?', 'Or how shall we gather what griefs destroy,', '    Or bless the mellowing year,', '    When the blasts of winter appear?', '', '', '', '', 'THE VOICE OF THE ANCIENT BARD', '', '', 'Youth of delight! come hither', 'And see the opening morn,', 'Image of Truth new-born.', 'Doubt is fled, and clouds of reason,', 'Dark disputes and artful teazing.', 'Folly is an endless maze;', 'Tangled roots perplex her ways;', 'How many have fallen there!', 'They stumble all night over bones of the dead;', 'And feel—they know not what but care;', 'And wish to lead others, when they should be led.', '', '', '', '']; \n",
      "Tail: ['And wish to lead others, when they should be led.', '', '', '', '']\n"
     ]
    }
   ],
   "source": [
    "# Print new head and tail of sliced list\n",
    "print(f\"Head: {content[5:]}; \\nTail: {content[-5:]}\")"
   ]
  },
  {
   "cell_type": "markdown",
   "metadata": {
    "id": "vPbUFXxEGjhq"
   },
   "source": [
    "Next we will define functions that check for specific patterns in the list to extract titles, stances, and poems.\n",
    "\n",
    "We first show how the **row patterns** to identify new poem and book titles we search for look like with an example:"
   ]
  },
  {
   "cell_type": "code",
   "execution_count": 6,
   "metadata": {
    "colab": {
     "base_uri": "https://localhost:8080/"
    },
    "executionInfo": {
     "elapsed": 347,
     "status": "ok",
     "timestamp": 1665762434663,
     "user": {
      "displayName": "Benedikt Ströbl",
      "userId": "05270344086363296234"
     },
     "user_tz": -120
    },
    "id": "0b1VmmYOJLS2",
    "outputId": "10140b8b-0f99-42c2-a9eb-a4cd8e09eb50"
   },
   "outputs": [
    {
     "data": {
      "text/plain": [
       "['', '', '', '', 'THE SHEPHERD', '', '']"
      ]
     },
     "execution_count": 6,
     "metadata": {},
     "output_type": "execute_result"
    }
   ],
   "source": [
    "# Example pattern for a poem title\n",
    "i = content.index(\"THE SHEPHERD\")\n",
    "content[i-4:i+3]"
   ]
  },
  {
   "cell_type": "code",
   "execution_count": 7,
   "metadata": {
    "colab": {
     "base_uri": "https://localhost:8080/"
    },
    "executionInfo": {
     "elapsed": 7,
     "status": "ok",
     "timestamp": 1665762434664,
     "user": {
      "displayName": "Benedikt Ströbl",
      "userId": "05270344086363296234"
     },
     "user_tz": -120
    },
    "id": "oyLtNA7lJcdx",
    "outputId": "5a5888c3-9f48-4a43-a34c-9024f209cd5b"
   },
   "outputs": [
    {
     "data": {
      "text/plain": [
       "['', '', '', '', 'SONGS OF EXPERIENCE', '', '', '', '']"
      ]
     },
     "execution_count": 7,
     "metadata": {},
     "output_type": "execute_result"
    }
   ],
   "source": [
    "# Example pattern for new book title\n",
    "i = content.index(\"SONGS OF EXPERIENCE\")\n",
    "content[i-4:i+5]"
   ]
  },
  {
   "cell_type": "code",
   "execution_count": 8,
   "metadata": {
    "id": "nT7KxZ36KcCC"
   },
   "outputs": [],
   "source": [
    "def is_book_title(index):\n",
    "  \"\"\"\n",
    "  This function checks whether the current item of the content list matches the pattern of a book title.\n",
    "  \"\"\"\n",
    "  return all(item == '' for item in content[index-4:index]) & all(item == '' for item in content[index+1:index+5])"
   ]
  },
  {
   "cell_type": "code",
   "execution_count": 9,
   "metadata": {
    "id": "SRitcyyQGf0o"
   },
   "outputs": [],
   "source": [
    "def is_poem_title(index):\n",
    "  \"\"\"\n",
    "  This function checks whether the current item of the content list matches the pattern of a poem title.\n",
    "  (It is important here to check first whether the line under investigation might also match a book title first since the poem title pattern will also return True for lines that are in fact book titles.)\n",
    "  \"\"\"\n",
    "  if is_book_title(index):\n",
    "    return False\n",
    "  else:\n",
    "    return all(item == '' for item in content[index-4:index]) & all(item == '' for item in content[index+1:index+3])"
   ]
  },
  {
   "cell_type": "code",
   "execution_count": 10,
   "metadata": {
    "colab": {
     "base_uri": "https://localhost:8080/"
    },
    "executionInfo": {
     "elapsed": 305,
     "status": "ok",
     "timestamp": 1665762436525,
     "user": {
      "displayName": "Benedikt Ströbl",
      "userId": "05270344086363296234"
     },
     "user_tz": -120
    },
    "id": "q6Zo7CNhJ6CG",
    "outputId": "7ddb2cfb-b09e-4e48-e094-327ce9e390b7"
   },
   "outputs": [
    {
     "name": "stdout",
     "output_type": "stream",
     "text": [
      "Number of matched book titles: 2\n",
      "Number of matched poem titles: 47\n"
     ]
    }
   ],
   "source": [
    "# Assert that the number of matches is correct (2 Book titles, 47 Poem titles)\n",
    "nr_matched_book_titles = sum(map(lambda x : is_book_title(x), range(len(content))))\n",
    "nr_matched_poem_titles = sum(map(lambda x : is_poem_title(x), range(len(content))))\n",
    "\n",
    "print(f\"Number of matched book titles: {nr_matched_book_titles}\\nNumber of matched poem titles: {nr_matched_poem_titles}\")"
   ]
  },
  {
   "cell_type": "code",
   "execution_count": 11,
   "metadata": {
    "colab": {
     "base_uri": "https://localhost:8080/"
    },
    "executionInfo": {
     "elapsed": 8,
     "status": "ok",
     "timestamp": 1665762436525,
     "user": {
      "displayName": "Benedikt Ströbl",
      "userId": "05270344086363296234"
     },
     "user_tz": -120
    },
    "id": "q0wmiUVGN4lZ",
    "outputId": "d31924b7-6100-40e6-bdb0-709d160f87bc"
   },
   "outputs": [
    {
     "name": "stdout",
     "output_type": "stream",
     "text": [
      "New Book Title set: SONGS OF INNOCENCE\n",
      "New Poem Title set: INTRODUCTION\n",
      "Stanza and Line counters reset!\n",
      "New Poem Title set: THE SHEPHERD\n",
      "Stanza and Line counters reset!\n",
      "New Poem Title set: THE ECHOING GREEN\n",
      "Stanza and Line counters reset!\n",
      "New Poem Title set: THE LAMB\n",
      "Stanza and Line counters reset!\n",
      "New Poem Title set: THE LITTLE BLACK BOY\n",
      "Stanza and Line counters reset!\n",
      "New Poem Title set: THE BLOSSOM\n",
      "Stanza and Line counters reset!\n",
      "New Poem Title set: THE CHIMNEY-SWEEPER\n",
      "Stanza and Line counters reset!\n",
      "New Poem Title set: THE LITTLE BOY LOST\n",
      "Stanza and Line counters reset!\n",
      "New Poem Title set: THE LITTLE BOY FOUND\n",
      "Stanza and Line counters reset!\n",
      "New Poem Title set: LAUGHING SONG\n",
      "Stanza and Line counters reset!\n",
      "New Poem Title set: A CRADLE SONG\n",
      "Stanza and Line counters reset!\n",
      "New Poem Title set: THE DIVINE IMAGE\n",
      "Stanza and Line counters reset!\n",
      "New Poem Title set: HOLY THURSDAY\n",
      "Stanza and Line counters reset!\n",
      "New Poem Title set: NIGHT\n",
      "Stanza and Line counters reset!\n",
      "New Poem Title set: SPRING\n",
      "Stanza and Line counters reset!\n",
      "New Poem Title set: NURSE’S SONG\n",
      "Stanza and Line counters reset!\n",
      "New Poem Title set: INFANT JOY\n",
      "Stanza and Line counters reset!\n",
      "New Poem Title set: A DREAM\n",
      "Stanza and Line counters reset!\n",
      "New Poem Title set: ON ANOTHER’S SORROW\n",
      "Stanza and Line counters reset!\n",
      "New Book Title set: SONGS OF EXPERIENCE\n",
      "New Poem Title set: INTRODUCTION\n",
      "Stanza and Line counters reset!\n",
      "New Poem Title set: EARTH’S ANSWER\n",
      "Stanza and Line counters reset!\n",
      "New Poem Title set: THE CLOD AND THE PEBBLE\n",
      "Stanza and Line counters reset!\n",
      "New Poem Title set: HOLY THURSDAY\n",
      "Stanza and Line counters reset!\n",
      "New Poem Title set: THE LITTLE GIRL LOST\n",
      "Stanza and Line counters reset!\n",
      "New Poem Title set: THE LITTLE GIRL FOUND\n",
      "Stanza and Line counters reset!\n",
      "New Poem Title set: THE CHIMNEY-SWEEPER\n",
      "Stanza and Line counters reset!\n",
      "New Poem Title set: NURSE’S SONG\n",
      "Stanza and Line counters reset!\n",
      "New Poem Title set: THE SICK ROSE\n",
      "Stanza and Line counters reset!\n",
      "New Poem Title set: THE FLY\n",
      "Stanza and Line counters reset!\n",
      "New Poem Title set: THE ANGEL\n",
      "Stanza and Line counters reset!\n",
      "New Poem Title set: THE TIGER\n",
      "Stanza and Line counters reset!\n",
      "New Poem Title set: MY PRETTY ROSE TREE\n",
      "Stanza and Line counters reset!\n",
      "New Poem Title set: AH, SUNFLOWER\n",
      "Stanza and Line counters reset!\n",
      "New Poem Title set: THE LILY\n",
      "Stanza and Line counters reset!\n",
      "New Poem Title set: THE GARDEN OF LOVE\n",
      "Stanza and Line counters reset!\n",
      "New Poem Title set: THE LITTLE VAGABOND\n",
      "Stanza and Line counters reset!\n",
      "New Poem Title set: LONDON\n",
      "Stanza and Line counters reset!\n",
      "New Poem Title set: THE HUMAN ABSTRACT\n",
      "Stanza and Line counters reset!\n",
      "New Poem Title set: INFANT SORROW\n",
      "Stanza and Line counters reset!\n",
      "New Poem Title set: A POISON TREE\n",
      "Stanza and Line counters reset!\n",
      "New Poem Title set: A LITTLE BOY LOST\n",
      "Stanza and Line counters reset!\n",
      "New Poem Title set: A LITTLE GIRL LOST\n",
      "Stanza and Line counters reset!\n",
      "New Poem Title set: A DIVINE IMAGE\n",
      "Stanza and Line counters reset!\n",
      "New Poem Title set: A CRADLE SONG\n",
      "Stanza and Line counters reset!\n",
      "New Poem Title set: TO TIRZAH\n",
      "Stanza and Line counters reset!\n",
      "New Poem Title set: THE SCHOOLBOY\n",
      "Stanza and Line counters reset!\n",
      "New Poem Title set: THE VOICE OF THE ANCIENT BARD\n",
      "Stanza and Line counters reset!\n"
     ]
    },
    {
     "name": "stderr",
     "output_type": "stream",
     "text": [
      "<>:27: SyntaxWarning: \"is not\" with a literal. Did you mean \"!=\"?\n",
      "<>:27: SyntaxWarning: \"is not\" with a literal. Did you mean \"!=\"?\n",
      "C:\\Users\\Bened\\AppData\\Local\\Temp\\ipykernel_22708\\2310011179.py:27: SyntaxWarning: \"is not\" with a literal. Did you mean \"!=\"?\n",
      "  elif line is not '':\n"
     ]
    }
   ],
   "source": [
    "# Define output list that contains one dict per line which will later be a row in the df\n",
    "rows = []\n",
    "\n",
    "for index, line in enumerate(content): \n",
    "  if index == 0:\n",
    "    # Define temp variables to store intermediate values and counts\n",
    "    current_book_title = None\n",
    "    current_poem_title = None\n",
    "    current_stanza_number = None\n",
    "    current_line_number = None\n",
    "\n",
    "  if is_book_title(index):\n",
    "    current_book_title = line\n",
    "    print(f\"New Book Title set: {current_book_title}\")\n",
    "    continue\n",
    "  elif is_poem_title(index): # Only check whether poem title pattern is matched if it is not a book title \n",
    "    current_poem_title = line\n",
    "    print(f\"New Poem Title set: {current_poem_title}\\nStanza and Line counters reset!\")\n",
    "    current_line_number = 0\n",
    "    current_stanza_number = -1 # reset stanza number to -1 since there are two empty lines after a new poem title\n",
    "    continue\n",
    "  elif current_poem_title is None:\n",
    "    continue\n",
    "  elif line == '':\n",
    "    current_stanza_number += 1\n",
    "    continue # skip empty lines and dont add them to the resulting dataframe\n",
    "  elif line is not '':\n",
    "    current_line_number += 1\n",
    "    #print(f\"Current Book: {current_book_title}\\nCurrent Poem: {current_poem_title}\\nStanza Number: {current_stanza_number}\\nLine Number: {current_line_number}\")\n",
    "\n",
    "  rows.append({\n",
    "      'line_text': line,\n",
    "      'book_title': current_book_title,\n",
    "      'poem_title': current_poem_title,\n",
    "      'stanza_number': current_stanza_number,\n",
    "      'line_number': current_line_number\n",
    "  })\n",
    "   \n"
   ]
  },
  {
   "cell_type": "code",
   "execution_count": 12,
   "metadata": {
    "colab": {
     "base_uri": "https://localhost:8080/",
     "height": 424
    },
    "executionInfo": {
     "elapsed": 7,
     "status": "ok",
     "timestamp": 1665762436526,
     "user": {
      "displayName": "Benedikt Ströbl",
      "userId": "05270344086363296234"
     },
     "user_tz": -120
    },
    "id": "fAMympDgT0ip",
    "outputId": "8be486c7-b5b9-42fd-fec6-174e55ab4187"
   },
   "outputs": [
    {
     "data": {
      "text/html": [
       "<div>\n",
       "<style scoped>\n",
       "    .dataframe tbody tr th:only-of-type {\n",
       "        vertical-align: middle;\n",
       "    }\n",
       "\n",
       "    .dataframe tbody tr th {\n",
       "        vertical-align: top;\n",
       "    }\n",
       "\n",
       "    .dataframe thead th {\n",
       "        text-align: right;\n",
       "    }\n",
       "</style>\n",
       "<table border=\"1\" class=\"dataframe\">\n",
       "  <thead>\n",
       "    <tr style=\"text-align: right;\">\n",
       "      <th></th>\n",
       "      <th>line_text</th>\n",
       "      <th>book_title</th>\n",
       "      <th>poem_title</th>\n",
       "      <th>stanza_number</th>\n",
       "      <th>line_number</th>\n",
       "    </tr>\n",
       "  </thead>\n",
       "  <tbody>\n",
       "    <tr>\n",
       "      <th>0</th>\n",
       "      <td>Piping down the valleys wild,</td>\n",
       "      <td>SONGS OF INNOCENCE</td>\n",
       "      <td>INTRODUCTION</td>\n",
       "      <td>1</td>\n",
       "      <td>1</td>\n",
       "    </tr>\n",
       "    <tr>\n",
       "      <th>1</th>\n",
       "      <td>Piping songs of pleasant glee,</td>\n",
       "      <td>SONGS OF INNOCENCE</td>\n",
       "      <td>INTRODUCTION</td>\n",
       "      <td>1</td>\n",
       "      <td>2</td>\n",
       "    </tr>\n",
       "    <tr>\n",
       "      <th>2</th>\n",
       "      <td>On a cloud I saw a child,</td>\n",
       "      <td>SONGS OF INNOCENCE</td>\n",
       "      <td>INTRODUCTION</td>\n",
       "      <td>1</td>\n",
       "      <td>3</td>\n",
       "    </tr>\n",
       "    <tr>\n",
       "      <th>3</th>\n",
       "      <td>And he laughing said to me:</td>\n",
       "      <td>SONGS OF INNOCENCE</td>\n",
       "      <td>INTRODUCTION</td>\n",
       "      <td>1</td>\n",
       "      <td>4</td>\n",
       "    </tr>\n",
       "    <tr>\n",
       "      <th>4</th>\n",
       "      <td>‘Pipe a song about a Lamb!’</td>\n",
       "      <td>SONGS OF INNOCENCE</td>\n",
       "      <td>INTRODUCTION</td>\n",
       "      <td>2</td>\n",
       "      <td>5</td>\n",
       "    </tr>\n",
       "    <tr>\n",
       "      <th>...</th>\n",
       "      <td>...</td>\n",
       "      <td>...</td>\n",
       "      <td>...</td>\n",
       "      <td>...</td>\n",
       "      <td>...</td>\n",
       "    </tr>\n",
       "    <tr>\n",
       "      <th>904</th>\n",
       "      <td>Tangled roots perplex her ways;</td>\n",
       "      <td>SONGS OF EXPERIENCE</td>\n",
       "      <td>THE VOICE OF THE ANCIENT BARD</td>\n",
       "      <td>1</td>\n",
       "      <td>7</td>\n",
       "    </tr>\n",
       "    <tr>\n",
       "      <th>905</th>\n",
       "      <td>How many have fallen there!</td>\n",
       "      <td>SONGS OF EXPERIENCE</td>\n",
       "      <td>THE VOICE OF THE ANCIENT BARD</td>\n",
       "      <td>1</td>\n",
       "      <td>8</td>\n",
       "    </tr>\n",
       "    <tr>\n",
       "      <th>906</th>\n",
       "      <td>They stumble all night over bones of the dead;</td>\n",
       "      <td>SONGS OF EXPERIENCE</td>\n",
       "      <td>THE VOICE OF THE ANCIENT BARD</td>\n",
       "      <td>1</td>\n",
       "      <td>9</td>\n",
       "    </tr>\n",
       "    <tr>\n",
       "      <th>907</th>\n",
       "      <td>And feel—they know not what but care;</td>\n",
       "      <td>SONGS OF EXPERIENCE</td>\n",
       "      <td>THE VOICE OF THE ANCIENT BARD</td>\n",
       "      <td>1</td>\n",
       "      <td>10</td>\n",
       "    </tr>\n",
       "    <tr>\n",
       "      <th>908</th>\n",
       "      <td>And wish to lead others, when they should be led.</td>\n",
       "      <td>SONGS OF EXPERIENCE</td>\n",
       "      <td>THE VOICE OF THE ANCIENT BARD</td>\n",
       "      <td>1</td>\n",
       "      <td>11</td>\n",
       "    </tr>\n",
       "  </tbody>\n",
       "</table>\n",
       "<p>909 rows × 5 columns</p>\n",
       "</div>"
      ],
      "text/plain": [
       "                                             line_text           book_title  \\\n",
       "0                        Piping down the valleys wild,   SONGS OF INNOCENCE   \n",
       "1                       Piping songs of pleasant glee,   SONGS OF INNOCENCE   \n",
       "2                            On a cloud I saw a child,   SONGS OF INNOCENCE   \n",
       "3                          And he laughing said to me:   SONGS OF INNOCENCE   \n",
       "4                          ‘Pipe a song about a Lamb!’   SONGS OF INNOCENCE   \n",
       "..                                                 ...                  ...   \n",
       "904                    Tangled roots perplex her ways;  SONGS OF EXPERIENCE   \n",
       "905                        How many have fallen there!  SONGS OF EXPERIENCE   \n",
       "906     They stumble all night over bones of the dead;  SONGS OF EXPERIENCE   \n",
       "907              And feel—they know not what but care;  SONGS OF EXPERIENCE   \n",
       "908  And wish to lead others, when they should be led.  SONGS OF EXPERIENCE   \n",
       "\n",
       "                        poem_title  stanza_number  line_number  \n",
       "0                     INTRODUCTION              1            1  \n",
       "1                     INTRODUCTION              1            2  \n",
       "2                     INTRODUCTION              1            3  \n",
       "3                     INTRODUCTION              1            4  \n",
       "4                     INTRODUCTION              2            5  \n",
       "..                             ...            ...          ...  \n",
       "904  THE VOICE OF THE ANCIENT BARD              1            7  \n",
       "905  THE VOICE OF THE ANCIENT BARD              1            8  \n",
       "906  THE VOICE OF THE ANCIENT BARD              1            9  \n",
       "907  THE VOICE OF THE ANCIENT BARD              1           10  \n",
       "908  THE VOICE OF THE ANCIENT BARD              1           11  \n",
       "\n",
       "[909 rows x 5 columns]"
      ]
     },
     "execution_count": 12,
     "metadata": {},
     "output_type": "execute_result"
    }
   ],
   "source": [
    "# Store results in dataframe and print it formatted\n",
    "df = pd.DataFrame(rows)\n",
    "df"
   ]
  },
  {
   "cell_type": "markdown",
   "metadata": {
    "id": "1ERUbqb0ojhd"
   },
   "source": [
    "## Getting and parsing texts\n",
    "\n",
    "To start with, you are asked to retrieve *Songs of Innocence and of Experience* by William Blake from Project Gutenberg. It is located at https://www.gutenberg.org/cache/epub/1934/pg1934.txt. This is a collection of poems in two books: *Songs of Innocence* and *Songs of Experience*.\n",
    "\n",
    "Parse this into a dataframe where each row is a line of a poem (there should be no empty lines). The following columns should describe where each line was found:\n",
    "\n",
    "- line_number \n",
    "- stanza_number\n",
    "- poem_title\n",
    "- book_title\n",
    "\n"
   ]
  },
  {
   "cell_type": "markdown",
   "metadata": {
    "id": "Lw7J7YgvolcB"
   },
   "source": [
    "## Visualising text data\n",
    "\n",
    "- Create a histogram showing the number of lines per poem\n",
    "\n"
   ]
  },
  {
   "cell_type": "code",
   "execution_count": 13,
   "metadata": {
    "colab": {
     "base_uri": "https://localhost:8080/",
     "height": 1000
    },
    "executionInfo": {
     "elapsed": 5,
     "status": "ok",
     "timestamp": 1665762437932,
     "user": {
      "displayName": "Benedikt Ströbl",
      "userId": "05270344086363296234"
     },
     "user_tz": -120
    },
    "id": "vkztJYBOXBKb",
    "outputId": "4b0f5dcd-40a7-45f3-c30d-dca8520e5631"
   },
   "outputs": [
    {
     "data": {
      "text/html": [
       "<div>\n",
       "<style scoped>\n",
       "    .dataframe tbody tr th:only-of-type {\n",
       "        vertical-align: middle;\n",
       "    }\n",
       "\n",
       "    .dataframe tbody tr th {\n",
       "        vertical-align: top;\n",
       "    }\n",
       "\n",
       "    .dataframe thead th {\n",
       "        text-align: right;\n",
       "    }\n",
       "</style>\n",
       "<table border=\"1\" class=\"dataframe\">\n",
       "  <thead>\n",
       "    <tr style=\"text-align: right;\">\n",
       "      <th></th>\n",
       "      <th></th>\n",
       "      <th>line_total_number</th>\n",
       "    </tr>\n",
       "    <tr>\n",
       "      <th>book_title</th>\n",
       "      <th>poem_title</th>\n",
       "      <th></th>\n",
       "    </tr>\n",
       "  </thead>\n",
       "  <tbody>\n",
       "    <tr>\n",
       "      <th rowspan=\"28\" valign=\"top\">SONGS OF EXPERIENCE</th>\n",
       "      <th>A CRADLE SONG</th>\n",
       "      <td>16</td>\n",
       "    </tr>\n",
       "    <tr>\n",
       "      <th>A DIVINE IMAGE</th>\n",
       "      <td>8</td>\n",
       "    </tr>\n",
       "    <tr>\n",
       "      <th>A LITTLE BOY LOST</th>\n",
       "      <td>24</td>\n",
       "    </tr>\n",
       "    <tr>\n",
       "      <th>A LITTLE GIRL LOST</th>\n",
       "      <td>34</td>\n",
       "    </tr>\n",
       "    <tr>\n",
       "      <th>A POISON TREE</th>\n",
       "      <td>16</td>\n",
       "    </tr>\n",
       "    <tr>\n",
       "      <th>AH, SUNFLOWER</th>\n",
       "      <td>8</td>\n",
       "    </tr>\n",
       "    <tr>\n",
       "      <th>EARTH’S ANSWER</th>\n",
       "      <td>25</td>\n",
       "    </tr>\n",
       "    <tr>\n",
       "      <th>HOLY THURSDAY</th>\n",
       "      <td>16</td>\n",
       "    </tr>\n",
       "    <tr>\n",
       "      <th>INFANT SORROW</th>\n",
       "      <td>8</td>\n",
       "    </tr>\n",
       "    <tr>\n",
       "      <th>INTRODUCTION</th>\n",
       "      <td>20</td>\n",
       "    </tr>\n",
       "    <tr>\n",
       "      <th>LONDON</th>\n",
       "      <td>16</td>\n",
       "    </tr>\n",
       "    <tr>\n",
       "      <th>MY PRETTY ROSE TREE</th>\n",
       "      <td>8</td>\n",
       "    </tr>\n",
       "    <tr>\n",
       "      <th>NURSE’S SONG</th>\n",
       "      <td>8</td>\n",
       "    </tr>\n",
       "    <tr>\n",
       "      <th>THE ANGEL</th>\n",
       "      <td>16</td>\n",
       "    </tr>\n",
       "    <tr>\n",
       "      <th>THE CHIMNEY-SWEEPER</th>\n",
       "      <td>12</td>\n",
       "    </tr>\n",
       "    <tr>\n",
       "      <th>THE CLOD AND THE PEBBLE</th>\n",
       "      <td>12</td>\n",
       "    </tr>\n",
       "    <tr>\n",
       "      <th>THE FLY</th>\n",
       "      <td>20</td>\n",
       "    </tr>\n",
       "    <tr>\n",
       "      <th>THE GARDEN OF LOVE</th>\n",
       "      <td>12</td>\n",
       "    </tr>\n",
       "    <tr>\n",
       "      <th>THE HUMAN ABSTRACT</th>\n",
       "      <td>24</td>\n",
       "    </tr>\n",
       "    <tr>\n",
       "      <th>THE LILY</th>\n",
       "      <td>4</td>\n",
       "    </tr>\n",
       "    <tr>\n",
       "      <th>THE LITTLE GIRL FOUND</th>\n",
       "      <td>52</td>\n",
       "    </tr>\n",
       "    <tr>\n",
       "      <th>THE LITTLE GIRL LOST</th>\n",
       "      <td>52</td>\n",
       "    </tr>\n",
       "    <tr>\n",
       "      <th>THE LITTLE VAGABOND</th>\n",
       "      <td>16</td>\n",
       "    </tr>\n",
       "    <tr>\n",
       "      <th>THE SCHOOLBOY</th>\n",
       "      <td>30</td>\n",
       "    </tr>\n",
       "    <tr>\n",
       "      <th>THE SICK ROSE</th>\n",
       "      <td>8</td>\n",
       "    </tr>\n",
       "    <tr>\n",
       "      <th>THE TIGER</th>\n",
       "      <td>24</td>\n",
       "    </tr>\n",
       "    <tr>\n",
       "      <th>THE VOICE OF THE ANCIENT BARD</th>\n",
       "      <td>11</td>\n",
       "    </tr>\n",
       "    <tr>\n",
       "      <th>TO TIRZAH</th>\n",
       "      <td>16</td>\n",
       "    </tr>\n",
       "    <tr>\n",
       "      <th rowspan=\"19\" valign=\"top\">SONGS OF INNOCENCE</th>\n",
       "      <th>A CRADLE SONG</th>\n",
       "      <td>32</td>\n",
       "    </tr>\n",
       "    <tr>\n",
       "      <th>A DREAM</th>\n",
       "      <td>20</td>\n",
       "    </tr>\n",
       "    <tr>\n",
       "      <th>HOLY THURSDAY</th>\n",
       "      <td>12</td>\n",
       "    </tr>\n",
       "    <tr>\n",
       "      <th>INFANT JOY</th>\n",
       "      <td>12</td>\n",
       "    </tr>\n",
       "    <tr>\n",
       "      <th>INTRODUCTION</th>\n",
       "      <td>20</td>\n",
       "    </tr>\n",
       "    <tr>\n",
       "      <th>LAUGHING SONG</th>\n",
       "      <td>12</td>\n",
       "    </tr>\n",
       "    <tr>\n",
       "      <th>NIGHT</th>\n",
       "      <td>48</td>\n",
       "    </tr>\n",
       "    <tr>\n",
       "      <th>NURSE’S SONG</th>\n",
       "      <td>16</td>\n",
       "    </tr>\n",
       "    <tr>\n",
       "      <th>ON ANOTHER’S SORROW</th>\n",
       "      <td>36</td>\n",
       "    </tr>\n",
       "    <tr>\n",
       "      <th>SPRING</th>\n",
       "      <td>27</td>\n",
       "    </tr>\n",
       "    <tr>\n",
       "      <th>THE BLOSSOM</th>\n",
       "      <td>12</td>\n",
       "    </tr>\n",
       "    <tr>\n",
       "      <th>THE CHIMNEY-SWEEPER</th>\n",
       "      <td>24</td>\n",
       "    </tr>\n",
       "    <tr>\n",
       "      <th>THE DIVINE IMAGE</th>\n",
       "      <td>20</td>\n",
       "    </tr>\n",
       "    <tr>\n",
       "      <th>THE ECHOING GREEN</th>\n",
       "      <td>30</td>\n",
       "    </tr>\n",
       "    <tr>\n",
       "      <th>THE LAMB</th>\n",
       "      <td>20</td>\n",
       "    </tr>\n",
       "    <tr>\n",
       "      <th>THE LITTLE BLACK BOY</th>\n",
       "      <td>28</td>\n",
       "    </tr>\n",
       "    <tr>\n",
       "      <th>THE LITTLE BOY FOUND</th>\n",
       "      <td>8</td>\n",
       "    </tr>\n",
       "    <tr>\n",
       "      <th>THE LITTLE BOY LOST</th>\n",
       "      <td>8</td>\n",
       "    </tr>\n",
       "    <tr>\n",
       "      <th>THE SHEPHERD</th>\n",
       "      <td>8</td>\n",
       "    </tr>\n",
       "  </tbody>\n",
       "</table>\n",
       "</div>"
      ],
      "text/plain": [
       "                                                   line_total_number\n",
       "book_title          poem_title                                      \n",
       "SONGS OF EXPERIENCE A CRADLE SONG                                 16\n",
       "                    A DIVINE IMAGE                                 8\n",
       "                    A LITTLE BOY LOST                             24\n",
       "                    A LITTLE GIRL LOST                            34\n",
       "                    A POISON TREE                                 16\n",
       "                    AH, SUNFLOWER                                  8\n",
       "                    EARTH’S ANSWER                                25\n",
       "                    HOLY THURSDAY                                 16\n",
       "                    INFANT SORROW                                  8\n",
       "                    INTRODUCTION                                  20\n",
       "                    LONDON                                        16\n",
       "                    MY PRETTY ROSE TREE                            8\n",
       "                    NURSE’S SONG                                   8\n",
       "                    THE ANGEL                                     16\n",
       "                    THE CHIMNEY-SWEEPER                           12\n",
       "                    THE CLOD AND THE PEBBLE                       12\n",
       "                    THE FLY                                       20\n",
       "                    THE GARDEN OF LOVE                            12\n",
       "                    THE HUMAN ABSTRACT                            24\n",
       "                    THE LILY                                       4\n",
       "                    THE LITTLE GIRL FOUND                         52\n",
       "                    THE LITTLE GIRL LOST                          52\n",
       "                    THE LITTLE VAGABOND                           16\n",
       "                    THE SCHOOLBOY                                 30\n",
       "                    THE SICK ROSE                                  8\n",
       "                    THE TIGER                                     24\n",
       "                    THE VOICE OF THE ANCIENT BARD                 11\n",
       "                    TO TIRZAH                                     16\n",
       "SONGS OF INNOCENCE  A CRADLE SONG                                 32\n",
       "                    A DREAM                                       20\n",
       "                    HOLY THURSDAY                                 12\n",
       "                    INFANT JOY                                    12\n",
       "                    INTRODUCTION                                  20\n",
       "                    LAUGHING SONG                                 12\n",
       "                    NIGHT                                         48\n",
       "                    NURSE’S SONG                                  16\n",
       "                    ON ANOTHER’S SORROW                           36\n",
       "                    SPRING                                        27\n",
       "                    THE BLOSSOM                                   12\n",
       "                    THE CHIMNEY-SWEEPER                           24\n",
       "                    THE DIVINE IMAGE                              20\n",
       "                    THE ECHOING GREEN                             30\n",
       "                    THE LAMB                                      20\n",
       "                    THE LITTLE BLACK BOY                          28\n",
       "                    THE LITTLE BOY FOUND                           8\n",
       "                    THE LITTLE BOY LOST                            8\n",
       "                    THE SHEPHERD                                   8"
      ]
     },
     "execution_count": 13,
     "metadata": {},
     "output_type": "execute_result"
    }
   ],
   "source": [
    "# Group by book and poem title and aggregate the line_number column with max function\n",
    "# Here it is important to also group for the book title since some of the poems in the two books have the same name but are in fact two different poems\n",
    "df_histogram = df[['book_title','poem_title', 'line_number']].groupby(['book_title','poem_title']).agg(line_total_number = ('line_number', 'max'))\n",
    "df_histogram"
   ]
  },
  {
   "cell_type": "code",
   "execution_count": 14,
   "metadata": {
    "colab": {
     "base_uri": "https://localhost:8080/",
     "height": 542
    },
    "executionInfo": {
     "elapsed": 235,
     "status": "ok",
     "timestamp": 1665762449148,
     "user": {
      "displayName": "Benedikt Ströbl",
      "userId": "05270344086363296234"
     },
     "user_tz": -120
    },
    "id": "sPWsZxT46Nkd",
    "outputId": "37755e8d-c0d5-4150-e4b3-c4241711cab6"
   },
   "outputs": [
    {
     "data": {
      "text/html": [
       "        <script type=\"text/javascript\">\n",
       "        window.PlotlyConfig = {MathJaxConfig: 'local'};\n",
       "        if (window.MathJax) {MathJax.Hub.Config({SVG: {font: \"STIX-Web\"}});}\n",
       "        if (typeof require !== 'undefined') {\n",
       "        require.undef(\"plotly\");\n",
       "        requirejs.config({\n",
       "            paths: {\n",
       "                'plotly': ['https://cdn.plot.ly/plotly-2.9.0.min']\n",
       "            }\n",
       "        });\n",
       "        require(['plotly'], function(Plotly) {\n",
       "            window._Plotly = Plotly;\n",
       "        });\n",
       "        }\n",
       "        </script>\n",
       "        "
      ]
     },
     "metadata": {},
     "output_type": "display_data"
    },
    {
     "data": {
      "text/html": [
       "<div>                            <div id=\"f12aab80-5b85-452e-b6d9-dea79eee1d96\" class=\"plotly-graph-div\" style=\"height:525px; width:700px;\"></div>            <script type=\"text/javascript\">                require([\"plotly\"], function(Plotly) {                    window.PLOTLYENV=window.PLOTLYENV || {};                                    if (document.getElementById(\"f12aab80-5b85-452e-b6d9-dea79eee1d96\")) {                    Plotly.newPlot(                        \"f12aab80-5b85-452e-b6d9-dea79eee1d96\",                        [{\"alignmentgroup\":\"True\",\"bingroup\":\"x\",\"hovertemplate\":\"Number of lines=%{x}<br>count=%{y}<extra></extra>\",\"legendgroup\":\"\",\"marker\":{\"color\":\"#5ab4ac\",\"pattern\":{\"shape\":\"\"}},\"name\":\"\",\"offsetgroup\":\"\",\"orientation\":\"v\",\"showlegend\":false,\"texttemplate\":\"%{value}\",\"x\":[16,8,24,34,16,8,25,16,8,20,16,8,8,16,12,12,20,12,24,4,52,52,16,30,8,24,11,16,32,20,12,12,20,12,48,16,36,27,12,24,20,30,20,28,8,8,8],\"xaxis\":\"x\",\"yaxis\":\"y\",\"type\":\"histogram\"}],                        {\"template\":{\"data\":{\"barpolar\":[{\"marker\":{\"line\":{\"color\":\"white\",\"width\":0.5},\"pattern\":{\"fillmode\":\"overlay\",\"size\":10,\"solidity\":0.2}},\"type\":\"barpolar\"}],\"bar\":[{\"error_x\":{\"color\":\"rgb(36,36,36)\"},\"error_y\":{\"color\":\"rgb(36,36,36)\"},\"marker\":{\"line\":{\"color\":\"white\",\"width\":0.5},\"pattern\":{\"fillmode\":\"overlay\",\"size\":10,\"solidity\":0.2}},\"type\":\"bar\"}],\"carpet\":[{\"aaxis\":{\"endlinecolor\":\"rgb(36,36,36)\",\"gridcolor\":\"white\",\"linecolor\":\"white\",\"minorgridcolor\":\"white\",\"startlinecolor\":\"rgb(36,36,36)\"},\"baxis\":{\"endlinecolor\":\"rgb(36,36,36)\",\"gridcolor\":\"white\",\"linecolor\":\"white\",\"minorgridcolor\":\"white\",\"startlinecolor\":\"rgb(36,36,36)\"},\"type\":\"carpet\"}],\"choropleth\":[{\"colorbar\":{\"outlinewidth\":1,\"tickcolor\":\"rgb(36,36,36)\",\"ticks\":\"outside\"},\"type\":\"choropleth\"}],\"contourcarpet\":[{\"colorbar\":{\"outlinewidth\":1,\"tickcolor\":\"rgb(36,36,36)\",\"ticks\":\"outside\"},\"type\":\"contourcarpet\"}],\"contour\":[{\"colorbar\":{\"outlinewidth\":1,\"tickcolor\":\"rgb(36,36,36)\",\"ticks\":\"outside\"},\"colorscale\":[[0.0,\"#440154\"],[0.1111111111111111,\"#482878\"],[0.2222222222222222,\"#3e4989\"],[0.3333333333333333,\"#31688e\"],[0.4444444444444444,\"#26828e\"],[0.5555555555555556,\"#1f9e89\"],[0.6666666666666666,\"#35b779\"],[0.7777777777777778,\"#6ece58\"],[0.8888888888888888,\"#b5de2b\"],[1.0,\"#fde725\"]],\"type\":\"contour\"}],\"heatmapgl\":[{\"colorbar\":{\"outlinewidth\":1,\"tickcolor\":\"rgb(36,36,36)\",\"ticks\":\"outside\"},\"colorscale\":[[0.0,\"#440154\"],[0.1111111111111111,\"#482878\"],[0.2222222222222222,\"#3e4989\"],[0.3333333333333333,\"#31688e\"],[0.4444444444444444,\"#26828e\"],[0.5555555555555556,\"#1f9e89\"],[0.6666666666666666,\"#35b779\"],[0.7777777777777778,\"#6ece58\"],[0.8888888888888888,\"#b5de2b\"],[1.0,\"#fde725\"]],\"type\":\"heatmapgl\"}],\"heatmap\":[{\"colorbar\":{\"outlinewidth\":1,\"tickcolor\":\"rgb(36,36,36)\",\"ticks\":\"outside\"},\"colorscale\":[[0.0,\"#440154\"],[0.1111111111111111,\"#482878\"],[0.2222222222222222,\"#3e4989\"],[0.3333333333333333,\"#31688e\"],[0.4444444444444444,\"#26828e\"],[0.5555555555555556,\"#1f9e89\"],[0.6666666666666666,\"#35b779\"],[0.7777777777777778,\"#6ece58\"],[0.8888888888888888,\"#b5de2b\"],[1.0,\"#fde725\"]],\"type\":\"heatmap\"}],\"histogram2dcontour\":[{\"colorbar\":{\"outlinewidth\":1,\"tickcolor\":\"rgb(36,36,36)\",\"ticks\":\"outside\"},\"colorscale\":[[0.0,\"#440154\"],[0.1111111111111111,\"#482878\"],[0.2222222222222222,\"#3e4989\"],[0.3333333333333333,\"#31688e\"],[0.4444444444444444,\"#26828e\"],[0.5555555555555556,\"#1f9e89\"],[0.6666666666666666,\"#35b779\"],[0.7777777777777778,\"#6ece58\"],[0.8888888888888888,\"#b5de2b\"],[1.0,\"#fde725\"]],\"type\":\"histogram2dcontour\"}],\"histogram2d\":[{\"colorbar\":{\"outlinewidth\":1,\"tickcolor\":\"rgb(36,36,36)\",\"ticks\":\"outside\"},\"colorscale\":[[0.0,\"#440154\"],[0.1111111111111111,\"#482878\"],[0.2222222222222222,\"#3e4989\"],[0.3333333333333333,\"#31688e\"],[0.4444444444444444,\"#26828e\"],[0.5555555555555556,\"#1f9e89\"],[0.6666666666666666,\"#35b779\"],[0.7777777777777778,\"#6ece58\"],[0.8888888888888888,\"#b5de2b\"],[1.0,\"#fde725\"]],\"type\":\"histogram2d\"}],\"histogram\":[{\"marker\":{\"line\":{\"color\":\"white\",\"width\":0.6}},\"type\":\"histogram\"}],\"mesh3d\":[{\"colorbar\":{\"outlinewidth\":1,\"tickcolor\":\"rgb(36,36,36)\",\"ticks\":\"outside\"},\"type\":\"mesh3d\"}],\"parcoords\":[{\"line\":{\"colorbar\":{\"outlinewidth\":1,\"tickcolor\":\"rgb(36,36,36)\",\"ticks\":\"outside\"}},\"type\":\"parcoords\"}],\"pie\":[{\"automargin\":true,\"type\":\"pie\"}],\"scatter3d\":[{\"line\":{\"colorbar\":{\"outlinewidth\":1,\"tickcolor\":\"rgb(36,36,36)\",\"ticks\":\"outside\"}},\"marker\":{\"colorbar\":{\"outlinewidth\":1,\"tickcolor\":\"rgb(36,36,36)\",\"ticks\":\"outside\"}},\"type\":\"scatter3d\"}],\"scattercarpet\":[{\"marker\":{\"colorbar\":{\"outlinewidth\":1,\"tickcolor\":\"rgb(36,36,36)\",\"ticks\":\"outside\"}},\"type\":\"scattercarpet\"}],\"scattergeo\":[{\"marker\":{\"colorbar\":{\"outlinewidth\":1,\"tickcolor\":\"rgb(36,36,36)\",\"ticks\":\"outside\"}},\"type\":\"scattergeo\"}],\"scattergl\":[{\"marker\":{\"colorbar\":{\"outlinewidth\":1,\"tickcolor\":\"rgb(36,36,36)\",\"ticks\":\"outside\"}},\"type\":\"scattergl\"}],\"scattermapbox\":[{\"marker\":{\"colorbar\":{\"outlinewidth\":1,\"tickcolor\":\"rgb(36,36,36)\",\"ticks\":\"outside\"}},\"type\":\"scattermapbox\"}],\"scatterpolargl\":[{\"marker\":{\"colorbar\":{\"outlinewidth\":1,\"tickcolor\":\"rgb(36,36,36)\",\"ticks\":\"outside\"}},\"type\":\"scatterpolargl\"}],\"scatterpolar\":[{\"marker\":{\"colorbar\":{\"outlinewidth\":1,\"tickcolor\":\"rgb(36,36,36)\",\"ticks\":\"outside\"}},\"type\":\"scatterpolar\"}],\"scatter\":[{\"marker\":{\"colorbar\":{\"outlinewidth\":1,\"tickcolor\":\"rgb(36,36,36)\",\"ticks\":\"outside\"}},\"type\":\"scatter\"}],\"scatterternary\":[{\"marker\":{\"colorbar\":{\"outlinewidth\":1,\"tickcolor\":\"rgb(36,36,36)\",\"ticks\":\"outside\"}},\"type\":\"scatterternary\"}],\"surface\":[{\"colorbar\":{\"outlinewidth\":1,\"tickcolor\":\"rgb(36,36,36)\",\"ticks\":\"outside\"},\"colorscale\":[[0.0,\"#440154\"],[0.1111111111111111,\"#482878\"],[0.2222222222222222,\"#3e4989\"],[0.3333333333333333,\"#31688e\"],[0.4444444444444444,\"#26828e\"],[0.5555555555555556,\"#1f9e89\"],[0.6666666666666666,\"#35b779\"],[0.7777777777777778,\"#6ece58\"],[0.8888888888888888,\"#b5de2b\"],[1.0,\"#fde725\"]],\"type\":\"surface\"}],\"table\":[{\"cells\":{\"fill\":{\"color\":\"rgb(237,237,237)\"},\"line\":{\"color\":\"white\"}},\"header\":{\"fill\":{\"color\":\"rgb(217,217,217)\"},\"line\":{\"color\":\"white\"}},\"type\":\"table\"}]},\"layout\":{\"annotationdefaults\":{\"arrowhead\":0,\"arrowwidth\":1},\"autotypenumbers\":\"strict\",\"coloraxis\":{\"colorbar\":{\"outlinewidth\":1,\"tickcolor\":\"rgb(36,36,36)\",\"ticks\":\"outside\"}},\"colorscale\":{\"diverging\":[[0.0,\"rgb(103,0,31)\"],[0.1,\"rgb(178,24,43)\"],[0.2,\"rgb(214,96,77)\"],[0.3,\"rgb(244,165,130)\"],[0.4,\"rgb(253,219,199)\"],[0.5,\"rgb(247,247,247)\"],[0.6,\"rgb(209,229,240)\"],[0.7,\"rgb(146,197,222)\"],[0.8,\"rgb(67,147,195)\"],[0.9,\"rgb(33,102,172)\"],[1.0,\"rgb(5,48,97)\"]],\"sequential\":[[0.0,\"#440154\"],[0.1111111111111111,\"#482878\"],[0.2222222222222222,\"#3e4989\"],[0.3333333333333333,\"#31688e\"],[0.4444444444444444,\"#26828e\"],[0.5555555555555556,\"#1f9e89\"],[0.6666666666666666,\"#35b779\"],[0.7777777777777778,\"#6ece58\"],[0.8888888888888888,\"#b5de2b\"],[1.0,\"#fde725\"]],\"sequentialminus\":[[0.0,\"#440154\"],[0.1111111111111111,\"#482878\"],[0.2222222222222222,\"#3e4989\"],[0.3333333333333333,\"#31688e\"],[0.4444444444444444,\"#26828e\"],[0.5555555555555556,\"#1f9e89\"],[0.6666666666666666,\"#35b779\"],[0.7777777777777778,\"#6ece58\"],[0.8888888888888888,\"#b5de2b\"],[1.0,\"#fde725\"]]},\"colorway\":[\"#1F77B4\",\"#FF7F0E\",\"#2CA02C\",\"#D62728\",\"#9467BD\",\"#8C564B\",\"#E377C2\",\"#7F7F7F\",\"#BCBD22\",\"#17BECF\"],\"font\":{\"color\":\"rgb(36,36,36)\"},\"geo\":{\"bgcolor\":\"white\",\"lakecolor\":\"white\",\"landcolor\":\"white\",\"showlakes\":true,\"showland\":true,\"subunitcolor\":\"white\"},\"hoverlabel\":{\"align\":\"left\"},\"hovermode\":\"closest\",\"mapbox\":{\"style\":\"light\"},\"paper_bgcolor\":\"white\",\"plot_bgcolor\":\"white\",\"polar\":{\"angularaxis\":{\"gridcolor\":\"rgb(232,232,232)\",\"linecolor\":\"rgb(36,36,36)\",\"showgrid\":false,\"showline\":true,\"ticks\":\"outside\"},\"bgcolor\":\"white\",\"radialaxis\":{\"gridcolor\":\"rgb(232,232,232)\",\"linecolor\":\"rgb(36,36,36)\",\"showgrid\":false,\"showline\":true,\"ticks\":\"outside\"}},\"scene\":{\"xaxis\":{\"backgroundcolor\":\"white\",\"gridcolor\":\"rgb(232,232,232)\",\"gridwidth\":2,\"linecolor\":\"rgb(36,36,36)\",\"showbackground\":true,\"showgrid\":false,\"showline\":true,\"ticks\":\"outside\",\"zeroline\":false,\"zerolinecolor\":\"rgb(36,36,36)\"},\"yaxis\":{\"backgroundcolor\":\"white\",\"gridcolor\":\"rgb(232,232,232)\",\"gridwidth\":2,\"linecolor\":\"rgb(36,36,36)\",\"showbackground\":true,\"showgrid\":false,\"showline\":true,\"ticks\":\"outside\",\"zeroline\":false,\"zerolinecolor\":\"rgb(36,36,36)\"},\"zaxis\":{\"backgroundcolor\":\"white\",\"gridcolor\":\"rgb(232,232,232)\",\"gridwidth\":2,\"linecolor\":\"rgb(36,36,36)\",\"showbackground\":true,\"showgrid\":false,\"showline\":true,\"ticks\":\"outside\",\"zeroline\":false,\"zerolinecolor\":\"rgb(36,36,36)\"}},\"shapedefaults\":{\"fillcolor\":\"black\",\"line\":{\"width\":0},\"opacity\":0.3},\"ternary\":{\"aaxis\":{\"gridcolor\":\"rgb(232,232,232)\",\"linecolor\":\"rgb(36,36,36)\",\"showgrid\":false,\"showline\":true,\"ticks\":\"outside\"},\"baxis\":{\"gridcolor\":\"rgb(232,232,232)\",\"linecolor\":\"rgb(36,36,36)\",\"showgrid\":false,\"showline\":true,\"ticks\":\"outside\"},\"bgcolor\":\"white\",\"caxis\":{\"gridcolor\":\"rgb(232,232,232)\",\"linecolor\":\"rgb(36,36,36)\",\"showgrid\":false,\"showline\":true,\"ticks\":\"outside\"}},\"title\":{\"x\":0.05},\"xaxis\":{\"automargin\":true,\"gridcolor\":\"rgb(232,232,232)\",\"linecolor\":\"rgb(36,36,36)\",\"showgrid\":false,\"showline\":true,\"ticks\":\"outside\",\"title\":{\"standoff\":15},\"zeroline\":false,\"zerolinecolor\":\"rgb(36,36,36)\"},\"yaxis\":{\"automargin\":true,\"gridcolor\":\"rgb(232,232,232)\",\"linecolor\":\"rgb(36,36,36)\",\"showgrid\":false,\"showline\":true,\"ticks\":\"outside\",\"title\":{\"standoff\":15},\"zeroline\":false,\"zerolinecolor\":\"rgb(36,36,36)\"}}},\"xaxis\":{\"anchor\":\"y\",\"domain\":[0.0,1.0],\"title\":{\"text\":\"Number of lines\"}},\"yaxis\":{\"anchor\":\"x\",\"domain\":[0.0,1.0],\"title\":{\"text\":\"Count\"}},\"legend\":{\"tracegroupgap\":0},\"title\":{\"text\":\"Number of Lines per Poem<br><sup>Histogram including all 47 poems from both books in the data.</sup>\"},\"barmode\":\"relative\",\"width\":700},                        {\"responsive\": true}                    ).then(function(){\n",
       "                            \n",
       "var gd = document.getElementById('f12aab80-5b85-452e-b6d9-dea79eee1d96');\n",
       "var x = new MutationObserver(function (mutations, observer) {{\n",
       "        var display = window.getComputedStyle(gd).display;\n",
       "        if (!display || display === 'none') {{\n",
       "            console.log([gd, 'removed!']);\n",
       "            Plotly.purge(gd);\n",
       "            observer.disconnect();\n",
       "        }}\n",
       "}});\n",
       "\n",
       "// Listen for the removal of the full notebook cells\n",
       "var notebookContainer = gd.closest('#notebook-container');\n",
       "if (notebookContainer) {{\n",
       "    x.observe(notebookContainer, {childList: true});\n",
       "}}\n",
       "\n",
       "// Listen for the clearing of the current output cell\n",
       "var outputEl = gd.closest('.output');\n",
       "if (outputEl) {{\n",
       "    x.observe(outputEl, {childList: true});\n",
       "}}\n",
       "\n",
       "                        })                };                });            </script>        </div>"
      ]
     },
     "metadata": {},
     "output_type": "display_data"
    }
   ],
   "source": [
    "# Plot histogram\n",
    "import plotly.graph_objects as go\n",
    "\n",
    "fig = px.histogram(df_histogram, \n",
    "                   x=\"line_total_number\", \n",
    "                   text_auto=True,\n",
    "                   template=\"simple_white\",\n",
    "                   color_discrete_sequence=['#5ab4ac'],\n",
    "                   labels = {\n",
    "                       'line_total_number': \"Number of lines\"\n",
    "                   },\n",
    "                   width=700,\n",
    "                   title='Number of Lines per Poem<br><sup>Histogram including all 47 poems from both books in the data.</sup>')\n",
    "fig.update_layout(\n",
    "    yaxis_title = \"Count\"\n",
    ")\n",
    "fig.show(\"notebook_connected\")"
   ]
  },
  {
   "cell_type": "markdown",
   "metadata": {
    "id": "jxiv-dXtarMk"
   },
   "source": [
    "- Create a document feature matrix treating each line as a document"
   ]
  },
  {
   "cell_type": "code",
   "execution_count": null,
   "metadata": {
    "id": "g6YgJeE3t8_v"
   },
   "outputs": [],
   "source": [
    "# Use NLTK's Lemmatizer and Stopwwords\n",
    "def lemma_tokenizer(str_input):\n",
    "    # Build default tokenizer from sklearn and tokenize words\n",
    "    default_tokenizer = CountVectorizer().build_tokenizer()\n",
    "    tokens = default_tokenizer(str_input)\n",
    "    \n",
    "    # add \"thee\" and \"thy\" to stopwords to accounts for Shakespearean language ;-)\n",
    "    stopwords.extend(['thee', 'thy'])\n",
    "\n",
    "    # lemmatize and remove stopwords\n",
    "    tokens = [WordNetLemmatizer().lemmatize(token) for token in tokens if token not in stopwords]\n",
    "    return tokens"
   ]
  },
  {
   "cell_type": "code",
   "execution_count": null,
   "metadata": {
    "colab": {
     "base_uri": "https://localhost:8080/"
    },
    "executionInfo": {
     "elapsed": 3551,
     "status": "ok",
     "timestamp": 1665754612388,
     "user": {
      "displayName": "Benedikt Ströbl",
      "userId": "05270344086363296234"
     },
     "user_tz": -120
    },
    "id": "8CI3cNYvoiIk",
    "outputId": "2d630f22-f28f-42c0-df56-77eef242660c"
   },
   "outputs": [],
   "source": [
    "# get line_text column with docs as series\n",
    "lines = df.line_text\n",
    "\n",
    "# Define Vectorizer to use for tokenization (We use sklearn library with a custom tokenizer by help of the nltk lib)\n",
    "vec = CountVectorizer(\n",
    "    # we transform our tokens to lowercase, remove english stopwords, and filter for tokens that appear in less than three documents (docment frequency < 3)\n",
    "    # The tokenization pattern we use in the custom tokenizer is equal to the pattern of the default CountVectorizer.\n",
    "    # I only used custom tokenizer function to get lemmatization by help of the nltk lib\n",
    "    min_df = 3,\n",
    "    tokenizer=lemma_tokenizer\n",
    ")\n",
    "\n",
    "# Apply vectorizer\n",
    "X = vec.fit_transform(lines)\n",
    "\n",
    "# Print features to see if clean\n",
    "print(vec.get_feature_names_out())"
   ]
  },
  {
   "cell_type": "code",
   "execution_count": null,
   "metadata": {
    "colab": {
     "base_uri": "https://localhost:8080/",
     "height": 424
    },
    "executionInfo": {
     "elapsed": 21,
     "status": "ok",
     "timestamp": 1665754612389,
     "user": {
      "displayName": "Benedikt Ströbl",
      "userId": "05270344086363296234"
     },
     "user_tz": -120
    },
    "id": "QfHlVFVxSfjp",
    "outputId": "cbc88206-4868-47e1-b9d7-38e3640f51b1"
   },
   "outputs": [],
   "source": [
    "# Build dfm from fitted vectorizer\n",
    "dfm = pd.DataFrame(X.toarray(), columns=vec.get_feature_names_out())\n",
    "\n",
    "dfm"
   ]
  },
  {
   "cell_type": "markdown",
   "metadata": {
    "id": "edDTxN_Foim7"
   },
   "source": [
    "- Create a separate document feature matrix treating each poem as a document"
   ]
  },
  {
   "cell_type": "code",
   "execution_count": null,
   "metadata": {
    "colab": {
     "base_uri": "https://localhost:8080/"
    },
    "executionInfo": {
     "elapsed": 19,
     "status": "ok",
     "timestamp": 1665754612389,
     "user": {
      "displayName": "Benedikt Ströbl",
      "userId": "05270344086363296234"
     },
     "user_tz": -120
    },
    "id": "FX-thsH0eHRx",
    "outputId": "f18a9e46-e1a4-4b7b-b7e2-5ace770143e1"
   },
   "outputs": [],
   "source": [
    "# Again, here it is important to also group for the book title\n",
    "# Construct series with aggregated text per poem\n",
    "poems = df[['book_title', 'poem_title', 'line_text']].groupby(['book_title', 'poem_title']).agg(lambda col: ' '.join(col)).line_text\n",
    "poems"
   ]
  },
  {
   "cell_type": "code",
   "execution_count": null,
   "metadata": {
    "colab": {
     "base_uri": "https://localhost:8080/"
    },
    "executionInfo": {
     "elapsed": 15,
     "status": "ok",
     "timestamp": 1665754612389,
     "user": {
      "displayName": "Benedikt Ströbl",
      "userId": "05270344086363296234"
     },
     "user_tz": -120
    },
    "id": "pDY1N_cGapY6",
    "outputId": "032a50ea-5ec9-4714-807e-304dcd955316"
   },
   "outputs": [],
   "source": [
    "# Once again, apply vectorizer\n",
    "X = vec.fit_transform(poems)\n",
    "\n",
    "# Print features to see if clean\n",
    "print(vec.get_feature_names_out())"
   ]
  },
  {
   "cell_type": "code",
   "execution_count": null,
   "metadata": {
    "colab": {
     "base_uri": "https://localhost:8080/",
     "height": 1000
    },
    "executionInfo": {
     "elapsed": 11,
     "status": "ok",
     "timestamp": 1665754612390,
     "user": {
      "displayName": "Benedikt Ströbl",
      "userId": "05270344086363296234"
     },
     "user_tz": -120
    },
    "id": "VRqYzcE4S8Ym",
    "outputId": "0faa6b74-2177-4182-9ada-e6e508503f0d"
   },
   "outputs": [],
   "source": [
    "# Build dfm\n",
    "dfm_poems = pd.DataFrame(X.toarray(), columns=vec.get_feature_names_out(), index=poems.index)\n",
    "dfm_poems"
   ]
  },
  {
   "cell_type": "markdown",
   "metadata": {
    "id": "Q8EGRHa4au2Y"
   },
   "source": [
    "- Using one of these document feature matrices, create a plot that compares the frequency of words in each book. Comment on the features that are more or less frequent in one book than another."
   ]
  },
  {
   "cell_type": "code",
   "execution_count": null,
   "metadata": {
    "id": "8NGKAzR0b8q3"
   },
   "outputs": [],
   "source": [
    "# Split up dfm_poems per book to be able to compare\n",
    "dfm_poems_innocence = dfm_poems.filter(like='SONGS OF INNOCENCE', axis=0)\n",
    "dfm_poems_experience = dfm_poems.filter(like='SONGS OF EXPERIENCE', axis=0)"
   ]
  },
  {
   "cell_type": "code",
   "execution_count": null,
   "metadata": {
    "colab": {
     "base_uri": "https://localhost:8080/"
    },
    "executionInfo": {
     "elapsed": 653,
     "status": "ok",
     "timestamp": 1665754613034,
     "user": {
      "displayName": "Benedikt Ströbl",
      "userId": "05270344086363296234"
     },
     "user_tz": -120
    },
    "id": "utvQJwSuay1v",
    "outputId": "92211ec8-d541-48c6-91a4-bd9d77faa4cc"
   },
   "outputs": [],
   "source": [
    "# get feature counts and sort descending\n",
    "counts_innocence = dfm_poems_innocence.sum(axis=0).sort_values(ascending=False)\n",
    "counts_experience = dfm_poems_experience.sum(axis=0).sort_values(ascending=False)\n",
    "\n",
    "print(f\"Five most frequent features per book:\\nSongs of Innocence: \\n{counts_innocence[:5]}\\n\\nSongs of Experience: \\n{counts_experience[:5]}\")"
   ]
  },
  {
   "cell_type": "code",
   "execution_count": null,
   "metadata": {
    "colab": {
     "base_uri": "https://localhost:8080/",
     "height": 424
    },
    "executionInfo": {
     "elapsed": 20,
     "status": "ok",
     "timestamp": 1665754613035,
     "user": {
      "displayName": "Benedikt Ströbl",
      "userId": "05270344086363296234"
     },
     "user_tz": -120
    },
    "id": "07b08MIFiEc0",
    "outputId": "f81301ce-fd12-4c55-fb78-1fc460454c54"
   },
   "outputs": [],
   "source": [
    "df_counts = pd.concat([counts_innocence, counts_experience], keys=[\"Songs of Innocence\", \"Songs of Experience\"], names=['book_title', 'feature']).to_frame(name=\"count\").reset_index()\n",
    "df_counts"
   ]
  },
  {
   "cell_type": "markdown",
   "metadata": {
    "id": "bNuLIykwdAYg"
   },
   "source": [
    "First, we will look into the terms that have the highest difference in absolute number of occurences across the two books and plot the top ten terms:"
   ]
  },
  {
   "cell_type": "code",
   "execution_count": null,
   "metadata": {
    "colab": {
     "base_uri": "https://localhost:8080/",
     "height": 363
    },
    "executionInfo": {
     "elapsed": 19,
     "status": "ok",
     "timestamp": 1665754613035,
     "user": {
      "displayName": "Benedikt Ströbl",
      "userId": "05270344086363296234"
     },
     "user_tz": -120
    },
    "id": "2am7XlhMkhNZ",
    "outputId": "ccc6ca9a-e484-4f7c-ffc1-450e9f3f7a08"
   },
   "outputs": [],
   "source": [
    "# This gets the top ten features that have the largest difference in occurences across the two books\n",
    "# the np.ptp command applies max and min function and takes the difference between the two (max - min)\n",
    "df_top_ten_diff_words = df_counts[['feature', 'count']].groupby(['feature']).agg(diff = ('count',np.ptp)).sort_values('diff', ascending=False).head(10).reset_index()\n",
    "df_top_ten_diff_words"
   ]
  },
  {
   "cell_type": "code",
   "execution_count": null,
   "metadata": {
    "colab": {
     "base_uri": "https://localhost:8080/",
     "height": 676
    },
    "executionInfo": {
     "elapsed": 19,
     "status": "ok",
     "timestamp": 1665754613036,
     "user": {
      "displayName": "Benedikt Ströbl",
      "userId": "05270344086363296234"
     },
     "user_tz": -120
    },
    "id": "Gde-AQ_InEm-",
    "outputId": "b9a66b64-dd05-41e0-9493-400d986b5bdb"
   },
   "outputs": [],
   "source": [
    "# Filter df_counts for top ten diff features\n",
    "df_counts_top_diff = df_counts[df_counts['feature'].isin(df_top_ten_diff_words.feature)]\n",
    "df_counts_top_diff"
   ]
  },
  {
   "cell_type": "code",
   "execution_count": null,
   "metadata": {
    "colab": {
     "base_uri": "https://localhost:8080/",
     "height": 542
    },
    "executionInfo": {
     "elapsed": 18,
     "status": "ok",
     "timestamp": 1665754613036,
     "user": {
      "displayName": "Benedikt Ströbl",
      "userId": "05270344086363296234"
     },
     "user_tz": -120
    },
    "id": "7ZBmfGZ0_jAW",
    "outputId": "e38a652a-83a5-429f-b8c9-839d9fa0ae5d"
   },
   "outputs": [],
   "source": [
    "# Plot combined barplot to illustrate differences in the ten words with the strongest difference\n",
    "# We use color friendly colors here from colorbrewer\n",
    "fig = px.bar(\n",
    "    df_counts_top_diff, \n",
    "    x=\"count\", \n",
    "    y=\"feature\",\n",
    "    color='book_title', \n",
    "    barmode='group',\n",
    "    template=\"simple_white\",\n",
    "    title=\"Absolute Feature Counts per Book<br><sup>Including the ten tokens with highest difference in counts across the two books.</sup>\",\n",
    "    labels={\n",
    "      'book_title': 'Book',\n",
    "      'count': 'Count',\n",
    "      'feature': 'Feature'\n",
    "    },\n",
    "    width=900,\n",
    "    text_auto=True,\n",
    "    color_discrete_map = {\n",
    "        'Songs of Experience': '#1b9e77',\n",
    "        'Songs of Innocence': '#d95f02'\n",
    "    }\n",
    ")\n",
    "fig.update_layout(\n",
    "    legend_title=\"Book\",\n",
    "    font=dict(\n",
    "        family=\"Corbel\",\n",
    "        size=18,\n",
    "        color=\"black\"\n",
    "    )\n",
    ")\n",
    "fig.show()"
   ]
  },
  {
   "cell_type": "markdown",
   "metadata": {
    "id": "3BrGkNpBoKQJ"
   },
   "source": [
    "**Comment:**\n",
    "\n",
    "For this plot I looked into illustrating the differences in terms of feature occurences for the ten tokens with the largest divergence for this metric across the two books.\n",
    "\n",
    "It becomes obvious that there is quite a large differences in tokens that are very specific such as \"lamb\", \"infant\". This makes sense naturally since the Songs of Innocence book contains poems that have these artefacts as core subjects -- The Lamb and Infant Joy.\n",
    "\n",
    "The very large divergence for the token \"thee\" can, after some qualitiative analysis, also easily be explained since it occurs very frequently in the poem \"The Lamb\" of the Songs of Innocence book. "
   ]
  },
  {
   "cell_type": "markdown",
   "metadata": {
    "id": "RNRJq1LqdKXn"
   },
   "source": [
    "Next, we want to do some statistical relative frequency analysis: Keyness\n",
    "\n",
    "Keyness is calculated using two term frequency dictionaries (consisting of raw frequency values) - one for each book:\n"
   ]
  },
  {
   "cell_type": "code",
   "execution_count": null,
   "metadata": {
    "colab": {
     "base_uri": "https://localhost:8080/"
    },
    "executionInfo": {
     "elapsed": 18,
     "status": "ok",
     "timestamp": 1665754613037,
     "user": {
      "displayName": "Benedikt Ströbl",
      "userId": "05270344086363296234"
     },
     "user_tz": -120
    },
    "id": "Bd0_Guv2dZmQ",
    "outputId": "9ececb8d-87e5-4a12-f1c4-abcaa759c815"
   },
   "outputs": [],
   "source": [
    "# Create frequency dictioniaries per book\n",
    "frequ_dict_innocence = df_counts[df_counts['book_title']==\"Songs of Innocence\"].set_index('feature')['count'].to_dict()\n",
    "frequ_dict_experience = df_counts[df_counts['book_title']==\"Songs of Experience\"].set_index('feature')['count'].to_dict()\n",
    "\n",
    "# Look into first five key-value pairs of dict to show data structure of freq dict\n",
    "list(frequ_dict_experience.items())[:5]"
   ]
  },
  {
   "cell_type": "markdown",
   "metadata": {
    "id": "_nWyyuC3rqx7"
   },
   "source": [
    "**Calculating Keyness:**\n",
    "\n",
    "For this we will use the Python library corpus-toolkit which implementation for the keyness calculation can be found here: https://github.com/kristopherkyle/corpus_toolkit/blob/master/corpus_toolkit/corpus_tools.py\n",
    "\n",
    "\n",
    "Here I used the log_ratio since it generally gives the better estimate also for low frequency terms  than e.g. chi-square.\n",
    "\n",
    "\n",
    "The log ratio here is the binary log of the ratio of relative frequencies which means that every extra point of Log Ratio score represents a doubling in size of the frequency difference between the two books, for the keyword under consideration"
   ]
  },
  {
   "cell_type": "code",
   "execution_count": null,
   "metadata": {
    "colab": {
     "base_uri": "https://localhost:8080/"
    },
    "executionInfo": {
     "elapsed": 15,
     "status": "ok",
     "timestamp": 1665754613037,
     "user": {
      "displayName": "Benedikt Ströbl",
      "userId": "05270344086363296234"
     },
     "user_tz": -120
    },
    "id": "5iwmlgxuc4N5",
    "outputId": "66822e50-9a0e-4305-aaea-db4439f3cf13"
   },
   "outputs": [],
   "source": [
    "# Calculate Keyness\n",
    "corp_key = ct.keyness(frequ_dict_innocence,frequ_dict_experience, effect = \"log-ratio\")\n",
    "\n",
    "# print top 10 features with highest keyness\n",
    "ct.head(corp_key,10)"
   ]
  },
  {
   "cell_type": "code",
   "execution_count": null,
   "metadata": {
    "colab": {
     "base_uri": "https://localhost:8080/",
     "height": 676
    },
    "executionInfo": {
     "elapsed": 14,
     "status": "ok",
     "timestamp": 1665754613038,
     "user": {
      "displayName": "Benedikt Ströbl",
      "userId": "05270344086363296234"
     },
     "user_tz": -120
    },
    "id": "LLXaFJD1ciLb",
    "outputId": "08923dd5-9579-4e73-ef8f-c3ee7bc8af57"
   },
   "outputs": [],
   "source": [
    "# Store keyness dict in df\n",
    "df_keyness = pd.DataFrame(corp_key.items(), columns=['feature', 'log_ratio'])\n",
    "\n",
    "# Select only top 10 largest and smallest values for df\n",
    "df_keyness_smallest_largest = pd.concat([df_keyness.nlargest(10,'log_ratio'), df_keyness.nsmallest(10,'log_ratio')])\n",
    "df_keyness_smallest_largest"
   ]
  },
  {
   "cell_type": "code",
   "execution_count": null,
   "metadata": {
    "colab": {
     "base_uri": "https://localhost:8080/",
     "height": 676
    },
    "executionInfo": {
     "elapsed": 444,
     "status": "ok",
     "timestamp": 1665754613469,
     "user": {
      "displayName": "Benedikt Ströbl",
      "userId": "05270344086363296234"
     },
     "user_tz": -120
    },
    "id": "v-SEn6GuoN8J",
    "outputId": "1890037d-f2ca-42fc-a9c7-2c97656f2e51"
   },
   "outputs": [],
   "source": [
    "# Assign book_titles to df (here we now from the log ratio metric and the way we inserted the two frequency dicts into the formula that all positive values are \"innocence\" and negative are \"experience\")\n",
    "df_keyness_smallest_largest.loc[df_keyness_smallest_largest['log_ratio'] < 0, 'book_title'] = 'Songs of Experience'\n",
    "df_keyness_smallest_largest.loc[df_keyness_smallest_largest['log_ratio'] > 0, 'book_title'] = 'Songs of Innocence'\n",
    "\n",
    "# convert dtype of feature to categorical\n",
    "df_keyness_smallest_largest = df_keyness_smallest_largest.round(2)\n",
    "\n",
    "df_keyness_smallest_largest"
   ]
  },
  {
   "cell_type": "code",
   "execution_count": null,
   "metadata": {
    "colab": {
     "base_uri": "https://localhost:8080/",
     "height": 717
    },
    "executionInfo": {
     "elapsed": 6,
     "status": "ok",
     "timestamp": 1665754613469,
     "user": {
      "displayName": "Benedikt Ströbl",
      "userId": "05270344086363296234"
     },
     "user_tz": -120
    },
    "id": "M6pnIKOcjIDI",
    "outputId": "fb45e99c-d907-4e6e-828c-a9c1b0609a66"
   },
   "outputs": [],
   "source": [
    "# Again plot\n",
    "# We use color friendly colors here from colorbrewer\n",
    "fig = px.bar(\n",
    "    df_keyness_smallest_largest, \n",
    "    x=\"log_ratio\", \n",
    "    y=\"feature\",\n",
    "    color='book_title', \n",
    "    barmode='group',\n",
    "    height=700,\n",
    "    template=\"simple_white\",\n",
    "    title=\"Keyness of Features between Books<br><sup>Plot depicts log ratio of relative frequency statistics (every extra point of Log Ratio score represents a doubling in size of the frequency difference)</sup>\",\n",
    "    labels={\n",
    "      'book_title': 'Book',\n",
    "      'log_ratio': 'Log Ratio',\n",
    "      'feature': 'Feature'\n",
    "    },\n",
    "    text_auto=True,\n",
    "    color_discrete_map = {\n",
    "        'Songs of Experience': '#1b9e77',\n",
    "        'Songs of Innocence': '#d95f02'\n",
    "    }\n",
    ")\n",
    "fig.update_layout(\n",
    "    legend_title=\"Book\",\n",
    "    font=dict(\n",
    "        family=\"Corbel\",\n",
    "        size=18,\n",
    "        color=\"black\"\n",
    "    )\n",
    ")\n",
    "\n",
    "fig.update_traces(width=0.7)\n",
    "fig.show()"
   ]
  },
  {
   "cell_type": "markdown",
   "metadata": {
    "id": "gjB2p92Us9-j"
   },
   "source": [
    "**Comment:**\n",
    "\n",
    "While this plot looks similar to the absolute frequency difference plot we saw before, it still containts some differences.\n",
    "\n",
    "For example, it becomes clear that the relative frequency difference of \"merry\" is the highest which makes sense since merry appears only in poems of the book \"Songs of Innocence\" but never is part of any poem of the Songs of Experience book.\n",
    "\n",
    "In comparison with the absolute frequency plot, we see that \"lamb\" is not among the features with the very highest keyness values anymore since the comparison is less drastic in relative terms.\n",
    "\n",
    "Also, we can infer from the plot that there seem to be more \"rare\" words in Songs of Experience since all of the most extreme ten features included in the plot seem to have very high keyness values in absolute value terms while the top ten features on the Songs of Innocence side already show a strong decline from \"lamb\" onwards."
   ]
  },
  {
   "cell_type": "markdown",
   "metadata": {
    "id": "iVpz2WLbonr0"
   },
   "source": [
    "## Parsing XML text data\n",
    "\n",
    "Now we will work with German Parliamentary data, which is available in XML format [here](https://www.bundestag.de/services/opendata) for the last two parliamentary periods. Remember XML format is very like HTML format, and we can parse it using a scraper and CSS selectors. Speeches are contained in `<rede>` elements, which each contain a paragraph element describing the speaker, and paragraph elements recording what they said. Not that class selectors won't work, because the class attribute is called \"klasse\". You can use normal attribute selectors.\n",
    "\n",
    "Choose one of the sessions, and retrieve it using R or Python. Using a scraper, get a list of all the <rede> elements. For each element, get the name of the speaker, and a single string containing everything that they said. Put this into a dataframe. Print the number of speeches, and the content of the first speech, by a politician of your choice.\n",
    "\n"
   ]
  },
  {
   "cell_type": "code",
   "execution_count": null,
   "metadata": {
    "id": "D548ETni9r0M",
    "outputId": "e083b01b-2ae2-4a62-e4e0-5f6a3ad3c24c"
   },
   "outputs": [],
   "source": [
    "# retrieve website html for session: Plenarprotokoll der 58. Sitzung von Freitag, den 30. September 2022\n",
    "html = requests.get(\"https://www.bundestag.de/resource/blob/913444/aeecd11842a5e9e64c0aac4fbd2dd4b9/20058-data.xml\")\n",
    "\n",
    "# parse html text\n",
    "soup = BeautifulSoup(html.text, \"html.parser\")"
   ]
  },
  {
   "cell_type": "code",
   "execution_count": null,
   "metadata": {
    "id": "zKKBm6QB_pVO"
   },
   "outputs": [],
   "source": [
    "# extract all speeches via the <rede> tag\n",
    "reden_html = soup.find_all('rede')"
   ]
  },
  {
   "cell_type": "code",
   "execution_count": null,
   "metadata": {
    "colab": {
     "base_uri": "https://localhost:8080/"
    },
    "executionInfo": {
     "elapsed": 29,
     "status": "ok",
     "timestamp": 1665754616174,
     "user": {
      "displayName": "Benedikt Ströbl",
      "userId": "05270344086363296234"
     },
     "user_tz": -120
    },
    "id": "ZgyMXRP6BxaG",
    "outputId": "67faa025-7974-464b-b14c-93f79f073654"
   },
   "outputs": [],
   "source": [
    "speeches = []\n",
    "\n",
    "# retrieve desired attributes from each speech of the session\n",
    "for rede in reden_html:\n",
    "  # Extract titel, vorname and nachname tags for the speech\n",
    "  titel_html = rede.find('titel')\n",
    "  vorname_html = rede.find('vorname')\n",
    "  nachname_html = rede.find('nachname')\n",
    "\n",
    "  # Get content of tag for each tag that is not None (the person has a title/vorname/nachname that is contained in xml) and join the resulting list into one string\n",
    "  full_name = \" \".join([item.get_text() for item in [titel_html, vorname_html, nachname_html] if item is not None])\n",
    "\n",
    "  # Get all paragraphs (<p>) of the current <rede>\n",
    "  rede_paragraphs_html = rede.find_all(\"p\")\n",
    "\n",
    "  # remove the one paragraph in any <rede> that contains the <redner> tag, since this indicated that this paragraph contains the personal information about the speaker\n",
    "  [rede_paragraphs_html.remove(p) for p in rede_paragraphs_html if p.find('redner') is not None] \n",
    "  \n",
    "  # Note: At the end of every speech there is one or two paragraphs containing the moderation of what the president of the parliament said. Strickly speaking to derive with only the speeches, we would need to exclude these texts.\n",
    "  # For this assignment, I only filtered for the paragraphs containing the announceent \"nächste rednerin/nächster redner\" since this gave very robust filtering results. To get the perfectly tidy speeches, we would need to develop a more complex approach which is probably beyond the scope of this assignment wich is why I excluded it here.\n",
    "  [rede_paragraphs_html.remove(p) for p in rede_paragraphs_html if re.search(\"nächste rednerin|nächster redner\", p.get_text().lower()) is not None]\n",
    "  \n",
    "  # Extract texts of all paragraphs tags <p> to get full speech text\n",
    "  speech_text = \" \".join([item.get_text() for item in rede_paragraphs_html])\n",
    "\n",
    "  # Apply some preprocessing to speech text to clean data\n",
    "  speech_text = speech_text.strip()\n",
    "\n",
    "  speeches.append({\n",
    "      'speaker_name': full_name,\n",
    "      'speech_text': speech_text\n",
    "  })\n",
    "\n",
    "  print(f\"Speaker of next speech: {full_name}\")"
   ]
  },
  {
   "cell_type": "code",
   "execution_count": null,
   "metadata": {
    "colab": {
     "base_uri": "https://localhost:8080/",
     "height": 424
    },
    "executionInfo": {
     "elapsed": 29,
     "status": "ok",
     "timestamp": 1665754616175,
     "user": {
      "displayName": "Benedikt Ströbl",
      "userId": "05270344086363296234"
     },
     "user_tz": -120
    },
    "id": "9vz4HcHvHZBy",
    "outputId": "fba5e332-c5d4-4017-f054-c3bb5b1d3daf"
   },
   "outputs": [],
   "source": [
    "# Store results in dataframe and print it formatted\n",
    "df_speeches = pd.DataFrame(speeches)\n",
    "df_speeches"
   ]
  },
  {
   "cell_type": "code",
   "execution_count": null,
   "metadata": {
    "colab": {
     "base_uri": "https://localhost:8080/"
    },
    "executionInfo": {
     "elapsed": 27,
     "status": "ok",
     "timestamp": 1665754616175,
     "user": {
      "displayName": "Benedikt Ströbl",
      "userId": "05270344086363296234"
     },
     "user_tz": -120
    },
    "id": "7kFKH9R9ifOP",
    "outputId": "e8da56da-93e3-4994-bed9-824aae8490dc"
   },
   "outputs": [],
   "source": [
    "# Print number of speeches in bold\n",
    "print(f\"The Plenarprotokoll der 58. Sitzung von Freitag, den 30. September 2022 contains \\033[1m {len(df_speeches)} \\033[0m speeches\")"
   ]
  },
  {
   "cell_type": "code",
   "execution_count": null,
   "metadata": {
    "colab": {
     "base_uri": "https://localhost:8080/"
    },
    "executionInfo": {
     "elapsed": 441,
     "status": "ok",
     "timestamp": 1665754616607,
     "user": {
      "displayName": "Benedikt Ströbl",
      "userId": "05270344086363296234"
     },
     "user_tz": -120
    },
    "id": "pg0BNWY0jNHQ",
    "outputId": "7fc5d4e3-18d9-4931-f832-d5964ec318e7"
   },
   "outputs": [],
   "source": [
    "# Print first speech of a random politican to uphold scientific objectivity ;-)\n",
    "\n",
    "# select random politican from full df\n",
    "rand_politican = df_speeches.speaker_name[randint(0,len(df_speeches)-1)]\n",
    "\n",
    "# Print first speech of random poltician\n",
    "first_speech = df_speeches[df_speeches['speaker_name'] == rand_politican].speech_text.values[0]\n",
    "print(f\"The first speech of \\033[1m {rand_politican} \\033[0m has the following transcript:\\n\\n{first_speech}\")"
   ]
  },
  {
   "cell_type": "markdown",
   "metadata": {
    "id": "i7IeIMs4opIG"
   },
   "source": [
    "## Using regular expressions\n",
    "\n",
    "Using a regular expression, get a list of words spoken in your parliamentary protocol that contain (in upper or lower case) the string \"kohle\" (coal). Show the number of occurrences of each of these words. If there are no mentions in the debate you have selected, try another protocol."
   ]
  },
  {
   "cell_type": "code",
   "execution_count": null,
   "metadata": {
    "colab": {
     "base_uri": "https://localhost:8080/"
    },
    "executionInfo": {
     "elapsed": 12,
     "status": "ok",
     "timestamp": 1665754616608,
     "user": {
      "displayName": "Benedikt Ströbl",
      "userId": "05270344086363296234"
     },
     "user_tz": -120
    },
    "id": "bgPetPwVqWdm",
    "outputId": "23722872-200d-406a-9162-a6fac89dd47d"
   },
   "outputs": [],
   "source": [
    "# example how our regex pattern works\n",
    "matches = re.findall(\"[a-zA-Z]*[kK]ohle[a-zA-Z]*\", \"Ein Kohlebergwerk kostet viel Kohle egal ob man kohle groß oder klein schreiben mag!\")\n",
    "\n",
    "print(f\"Matches: {matches}\")"
   ]
  },
  {
   "cell_type": "code",
   "execution_count": null,
   "metadata": {
    "colab": {
     "base_uri": "https://localhost:8080/"
    },
    "executionInfo": {
     "elapsed": 10,
     "status": "ok",
     "timestamp": 1665754616608,
     "user": {
      "displayName": "Benedikt Ströbl",
      "userId": "05270344086363296234"
     },
     "user_tz": -120
    },
    "id": "i4ehUlv6tMhb",
    "outputId": "ae1a83cf-ec9b-4041-81ed-3e79c370a28e"
   },
   "outputs": [],
   "source": [
    "# placeholder to store matched words\n",
    "kohle_words = [] \n",
    "\n",
    "# get list of words that contain kohle/Kohle\n",
    "# Define pattern that looks for occurences of the string sequence \"kohle\" or \"Kohle\" in words of the entire protocol\n",
    "pattern = \"[a-zA-Z]*[kK]ohle[a-zA-Z]*\" # Note here: I interpreted the \"upper/lower case\" instruction such as we want ignore whether the \"k\" in Kohle is upper or lower case. In case the assignment was also to include words such as \"koHle\" the pattern would look very similar (e.g. \"[a-zA-Z]*[kK]o[Hh]le[a-zA-Z]*\")\n",
    "[kohle_words.extend(re.findall(pattern,speech)) for speech in df_speeches.speech_text]\n",
    "\n",
    "# Get the list of unique words contained in the protocol that contain kohle/Kohle\n",
    "unique_kohle_words = np.unique(np.array(kohle_words)).tolist()\n",
    "\n",
    "print(f\"Unique words that contain kohle/Kohle: {unique_kohle_words}\")"
   ]
  },
  {
   "cell_type": "code",
   "execution_count": null,
   "metadata": {
    "colab": {
     "base_uri": "https://localhost:8080/",
     "height": 206
    },
    "executionInfo": {
     "elapsed": 8,
     "status": "ok",
     "timestamp": 1665754616609,
     "user": {
      "displayName": "Benedikt Ströbl",
      "userId": "05270344086363296234"
     },
     "user_tz": -120
    },
    "id": "0qqw6dKx82aV",
    "outputId": "2e2753db-bba2-4b1e-94dd-187647aca3d4"
   },
   "outputs": [],
   "source": [
    "# count how often each unique \"kohle word\" appears in the list of all matches across the protocol and store counts in nested list\n",
    "counts = [[word_unique,kohle_words.count(word_unique)] for word_unique in unique_kohle_words]\n",
    "\n",
    "# Map counts into datagrame and plot nicely in descending order\n",
    "df_unique_counts = pd.DataFrame(counts, columns=[\"word_unique\", \"count\"]).sort_values('count', ascending=False)\n",
    "df_unique_counts"
   ]
  },
  {
   "cell_type": "markdown",
   "metadata": {
    "id": "x0AuVmddyVQh"
   },
   "source": [
    "Here we see the number of occurences of the words that contain kohle/Kohle we identified in the protocol we are analyzing."
   ]
  }
 ],
 "metadata": {
  "colab": {
   "collapsed_sections": [],
   "provenance": []
  },
  "kernelspec": {
   "display_name": "Python 3 (ipykernel)",
   "language": "python",
   "name": "python3"
  },
  "language_info": {
   "codemirror_mode": {
    "name": "ipython",
    "version": 3
   },
   "file_extension": ".py",
   "mimetype": "text/x-python",
   "name": "python",
   "nbconvert_exporter": "python",
   "pygments_lexer": "ipython3",
   "version": "3.9.12"
  }
 },
 "nbformat": 4,
 "nbformat_minor": 1
}
